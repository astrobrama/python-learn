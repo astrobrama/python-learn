{
 "cells": [
  {
   "cell_type": "markdown",
   "metadata": {},
   "source": [
    "## Задание 1##\n",
    "\n",
    "Даны 2 переменных, в которых хранятся строки произвольной длины: phrase_1 и phrase_2.\n",
    "Напишите код, который проверяет какая из этих строк длиннее."
   ]
  },
  {
   "cell_type": "code",
   "execution_count": 1,
   "metadata": {},
   "outputs": [
    {
     "name": "stdout",
     "output_type": "stream",
     "text": [
      "Фраза 1 длиннее фразы 2\n"
     ]
    }
   ],
   "source": [
    "phrase_1 = 'Насколько проще было бы писать программы, если бы не заказчики'\n",
    "phrase_2 = '640Кб должно хватить для любых задач. Билл Гейтс (по легенде)'\n",
    "if phrase_1 > phrase_2:\n",
    "    print('Фраза 1 длиннее фразы 2')\n",
    "elif phrase_2 > phrase_1:\n",
    "    print('Фраза 2 длиннее фразы 1')\n",
    "else:\n",
    "    print('Фразы равной длины')"
   ]
  },
  {
   "cell_type": "code",
   "execution_count": 2,
   "metadata": {},
   "outputs": [
    {
     "name": "stdout",
     "output_type": "stream",
     "text": [
      "Фраза 2 длиннее фразы 1\n"
     ]
    }
   ],
   "source": [
    "phrase_1 = '640Кб должно хватить для любых задач. Билл Гейтс (по легенде)'\n",
    "phrase_2 = 'Насколько проще было бы писать программы, если бы не заказчики'\n",
    "if phrase_1 > phrase_2:\n",
    "    print('Фраза 1 длиннее фразы 2')\n",
    "elif phrase_2 > phrase_1:\n",
    "    print('Фраза 2 длиннее фразы 1')\n",
    "else:\n",
    "    print('Фразы равной длины')"
   ]
  },
  {
   "cell_type": "code",
   "execution_count": 3,
   "metadata": {},
   "outputs": [
    {
     "name": "stdout",
     "output_type": "stream",
     "text": [
      "Фразы равной длины\n"
     ]
    }
   ],
   "source": [
    "phrase_1 = 'Насколько проще было бы писать программы, если бы не заказчики'\n",
    "phrase_2 = 'Насколько проще было бы писать программы, если бы не заказчики'\n",
    "if phrase_1 > phrase_2:\n",
    "    print('Фраза 1 длиннее фразы 2')\n",
    "elif phrase_2 > phrase_1:\n",
    "    print('Фраза 2 длиннее фразы 1')\n",
    "else:\n",
    "    print('Фразы равной длины')"
   ]
  },
  {
   "cell_type": "markdown",
   "metadata": {},
   "source": [
    "## Задание 2##\n",
    "Дана переменная, в которой хранится четырехзначное число (год). Необходимо написать программу, которая выведет, является ли данный год високосным или обычным."
   ]
  },
  {
   "cell_type": "code",
   "execution_count": 4,
   "metadata": {},
   "outputs": [
    {
     "name": "stdout",
     "output_type": "stream",
     "text": [
      "Високосный год\n"
     ]
    }
   ],
   "source": [
    "year = 2020\n",
    "\n",
    "if year % 4 == 0 and year % 100 != 0 or year % 400 == 0:\n",
    "    print('Високосный год')\n",
    "else:\n",
    "    print('Обычный год')"
   ]
  },
  {
   "cell_type": "code",
   "execution_count": 5,
   "metadata": {},
   "outputs": [
    {
     "name": "stdout",
     "output_type": "stream",
     "text": [
      "Обычный год\n"
     ]
    }
   ],
   "source": [
    "year = 2019\n",
    "\n",
    "if year % 4 == 0 and year % 100 != 0 or year % 400 == 0:\n",
    "    print('Високосный год')\n",
    "else:\n",
    "    print('Обычный год')"
   ]
  },
  {
   "cell_type": "markdown",
   "metadata": {},
   "source": [
    "## Задание 3##\n",
    "Необходимо написать программу, которая будет запрашивать у пользователя месяц и дату рождения и выводить соответствующий знак зодиака."
   ]
  },
  {
   "cell_type": "code",
   "execution_count": 7,
   "metadata": {},
   "outputs": [
    {
     "name": "stdout",
     "output_type": "stream",
     "text": [
      "Введите день:30\n",
      "Введите месяц:Август\n",
      "Ваш знак зодиака: Дева\n"
     ]
    }
   ],
   "source": [
    "date=int(input('Введите день:'))\n",
    "month=input('Введите месяц:')\n",
    "\n",
    "if (date>=21 and date<=31 and month=='Март') or( month=='Апрель' and date>=1 and date<=19):\n",
    "    print('Ваш знак зодиака: Овен')\n",
    "elif (date>=20 and date<=30 and month=='Апрель') or( month=='Май' and date>=1 and date<=20):\n",
    "    print('Ваш знак зодиака: Телец')\n",
    "elif (date>=21 and date<=31 and month=='Май') or( month=='Июнь' and date>=1 and date<=21):\n",
    "    print('Ваш знак зодиака: Близнецы')\n",
    "elif (date>=22 and date<=30 and month=='Июнь') or( month=='Июль' and date>=1 and date<=22):\n",
    "    print('Ваш знак зодиака: Рак')\n",
    "elif (date>=23 and date<=31 and month=='Июль') or( month=='Август' and date>=1 and date<=22):\n",
    "    print('Ваш знак зодиака: Лев')\n",
    "elif (date>=23 and date<=31 and month=='Август') or( month=='Сентябрь' and date>=1 and date<=22):\n",
    "    print('Ваш знак зодиака: Дева')\n",
    "elif (date>=23 and date<=30 and month=='Сентябрь') or( month=='Октябрь' and date>=1 and date<=23):\n",
    "    print('Ваш знак зодиака: Весы')\n",
    "elif (date>=24 and date<=31 and month=='Октябрь') or( month=='Ноябрь' and date>=1 and date<=22):\n",
    "    print('Ваш знак зодиака: Скорпион')\n",
    "elif (date>=23 and date<=30 and month=='Ноябрь') or( month=='Декабрь' and date>=1 and date<=21):\n",
    "    print('Ваш знак зодиака: Стрелец')\n",
    "elif (date>=22 and date<=31 and month=='Декабрь') or( month=='Январь' and date>=1 and date<=20):\n",
    "    print('Ваш знак зодиака: Козерог')\n",
    "elif (date>=21 and date<=31 and month=='Январь') or( month=='Февраль' and date>=1 and date<=18):\n",
    "    print('Ваш знак зодиака: Водолей')\n",
    "elif (date>=19 and date<=29 and month=='Февраль') or( month=='Март' and date>=1 and date<=20):\n",
    "    print('Ваш знак зодиака: Рыбы')"
   ]
  },
  {
   "cell_type": "markdown",
   "metadata": {},
   "source": [
    "## Задание 4##\n",
    "Вам нужно написать программу для подбора упаковок по размерам товара. Размеры (ширина, длина, высота) хранятся в переменных (в сантиметрах):\n",
    "\n",
    "Используйте следующие правила:\n",
    "\n",
    "* если каждое из трех измерений менее 15 сантиметров, то выведите на экран \"Коробка №1\";\n",
    "* если хотя бы одно из измерений больше 15 сантиметров, но менее 50 сантиметров, то выводите \"Коробка №2\";\n",
    "* если длина товара больше 2 метров, то выводите \"Упаковка для лыж\";\n",
    "* во всех остальных случаях выводите \"Стандартная коробка №3\"."
   ]
  },
  {
   "cell_type": "code",
   "execution_count": 8,
   "metadata": {},
   "outputs": [
    {
     "name": "stdout",
     "output_type": "stream",
     "text": [
      "Стандартная коробка №3\n"
     ]
    }
   ],
   "source": [
    "width = 15\n",
    "length = 50\n",
    "height = 15\n",
    "\n",
    "if width < 15 and length < 15 and height < 15:\n",
    "    print('Коробка №1')\n",
    "elif width > 200 or length > 200 or height > 200:\n",
    "    print('Упаковка для лыж')\n",
    "elif (15 < width < 50) or (15 < length < 50) or (15 < height < 50):\n",
    "    print('Коробка №2')\n",
    "else:\n",
    "    print('Стандартная коробка №3')"
   ]
  },
  {
   "cell_type": "code",
   "execution_count": 9,
   "metadata": {},
   "outputs": [
    {
     "name": "stdout",
     "output_type": "stream",
     "text": [
      "Упаковка для лыж\n"
     ]
    }
   ],
   "source": [
    "width = 45\n",
    "length = 205\n",
    "height = 45\n",
    "\n",
    "if width < 15 and length < 15 and height < 15:\n",
    "    print('Коробка №1')\n",
    "elif width > 200 or length > 200 or height > 200:\n",
    "    print('Упаковка для лыж')\n",
    "elif (15 < width < 50) or (15 < length < 50) or (15 < height < 50):\n",
    "    print('Коробка №2')\n",
    "else:\n",
    "    print('Стандартная коробка №3')"
   ]
  },
  {
   "cell_type": "markdown",
   "metadata": {},
   "source": [
    "## Задание 5 (необязательное)##\n",
    "Дана переменная, в которой хранится шестизначное число (номер проездного билета). Напишите программу, которая будет определять, является ли данный билет \"счастливым\". Билет считается счастливым, если сумма первых трех цифр совпадает с суммой последних трех цифр номера."
   ]
  },
  {
   "cell_type": "code",
   "execution_count": 10,
   "metadata": {},
   "outputs": [
    {
     "name": "stdout",
     "output_type": "stream",
     "text": [
      "123456\n",
      "Несчастливый билет\n"
     ]
    }
   ],
   "source": [
    "num = int(input())\n",
    "num_6 = (num % 10) \n",
    "num_5 = (num % 10**2) // 10**1\n",
    "num_4 = (num % 10**3) // 10**2\n",
    "num_3 = (num % 10**4) // 10**3\n",
    "num_2 = (num % 10**5) // 10**4\n",
    "num_1 = (num % 10**6) // 10**5\n",
    "\n",
    "if (num_1 + num_2 + num_3) == (num_4 + num_5 + num_6):\n",
    "    print('Счастливый билет')\n",
    "else:\n",
    "    print('Несчастливый билет')"
   ]
  },
  {
   "cell_type": "markdown",
   "metadata": {},
   "source": [
    "## Задание 6 (необязательное)##\n",
    "Напишите программу, которая сможет вычислять площади трех фигур (круг, треугольник и прямоугольник). Тип фигуры запрашиваем через пользовательский ввод, после чего делаем запрос характеристик фигуры:\n",
    "\n",
    "* если пользователь выбрал круг, запрашиваем его радиус,\n",
    "* если треугольник – длины трех его сторон;\n",
    "* если прямоугольник – длины двух его сторон."
   ]
  },
  {
   "cell_type": "code",
   "execution_count": 15,
   "metadata": {},
   "outputs": [
    {
     "name": "stdout",
     "output_type": "stream",
     "text": [
      "Введите тип фигуры:Круг\n",
      "Введите радиус круга:10\n",
      "Площадь круга:  314.15\n"
     ]
    }
   ],
   "source": [
    "figure_type = input('Введите тип фигуры:')\n",
    "\n",
    "if figure_type == 'Круг':\n",
    "    radius = int(input('Введите радиус круга:'))\n",
    "    print('Площадь круга: ', round(3.1415*radius**2,2))\n",
    "elif figure_type == 'Прямоугольник':\n",
    "    a = int(input('Введите длину стороны А:'))\n",
    "    b = int(input('Введите длину стороны B:'))\n",
    "    print('Площадь прямоугольника: ', round(a*b,2))\n",
    "elif figure_type == 'Треугольник':\n",
    "    a = int(input('Введите длину стороны А:'))\n",
    "    b = int(input('Введите длину стороны B:'))\n",
    "    c = int(input('Введите длину стороны C:'))\n",
    "    p = (a + b + c)/2\n",
    "    s = (p*(p-a)*(p-b)*(p-c))**(1/2) \n",
    "    print('Площадь треугольника: ', round(s,2))\n",
    "else:\n",
    "    print('Не могу посчитать площадь фигуры', figure_type)"
   ]
  },
  {
   "cell_type": "code",
   "execution_count": null,
   "metadata": {},
   "outputs": [],
   "source": []
  }
 ],
 "metadata": {
  "kernelspec": {
   "display_name": "Python 3",
   "language": "python",
   "name": "python3"
  },
  "language_info": {
   "codemirror_mode": {
    "name": "ipython",
    "version": 3
   },
   "file_extension": ".py",
   "mimetype": "text/x-python",
   "name": "python",
   "nbconvert_exporter": "python",
   "pygments_lexer": "ipython3",
   "version": "3.7.6"
  }
 },
 "nbformat": 4,
 "nbformat_minor": 4
}
