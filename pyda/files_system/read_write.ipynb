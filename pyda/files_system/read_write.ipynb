{
 "cells": [
  {
   "cell_type": "markdown",
   "id": "cd370023",
   "metadata": {},
   "source": [
    "# Домашнее задание к лекции Работа с файловой системой и модули"
   ]
  },
  {
   "cell_type": "markdown",
   "id": "5ed0b6eb",
   "metadata": {},
   "source": [
    "## Переведите содержимое файла purchase_log.txt в словарь purchases вида:  {‘1840e0b9d4’: ‘Продукты’, …} "
   ]
  },
  {
   "cell_type": "code",
   "execution_count": 1,
   "id": "6cc53f43",
   "metadata": {},
   "outputs": [],
   "source": [
    "import json"
   ]
  },
  {
   "cell_type": "code",
   "execution_count": 2,
   "id": "cf2b70e9",
   "metadata": {},
   "outputs": [
    {
     "name": "stdout",
     "output_type": "stream",
     "text": [
      "{'1840e0b9d4': 'Продукты', '4e4f90fcfb': 'Электроника', 'afea8d72fc': 'Электроника', '373a6055fe': 'Бытовая техника', '9b2ab046f3': 'Электроника', '9f39d307c3': 'Электроника', '44edeffc91': 'Продукты', '704474fa2d': 'Продукты', '1de31be403': 'Бытовая техника', 'b71f36a5e4': 'Продукты', '79843a685a': 'Продукты', 'ff68cee0d6': 'Бытовая техника', 'e8447c40e2': 'Досуг', '98d290be27': 'Электроника', 'fa0079a5a8': 'Досуг', '22d2f03a17': 'Досуг', '3f8e1ccd3f': 'Электроника', '81a9988b83': 'Электроника', '65f44a2eb7': 'Досуг', '5f8fbb0149': 'Бытовая техника', '3ecff691fd': 'Электроника', 'dd0e912251': 'Электроника', '9250593d55': 'Электроника', '37c4e090e4': 'Электроника', '22fa3ea76f': 'Электроника', '73b876b237': 'Электроника'}\n"
     ]
    }
   ],
   "source": [
    "# Оставила ограничение на количество выводимых строк, чтобы можно было увидеть результат (т.к. входной файл очень большой)\n",
    "i = 0\n",
    "purchases = {}\n",
    "with open('purchase_log.txt', 'r', encoding = 'utf-8') as f:\n",
    "    next(f)\n",
    "    for line in f:\n",
    "        line = json.loads(line)\n",
    "        purchase = list(line.values())\n",
    "        purchases[purchase[0]] = purchase[1]\n",
    "        i += 1\n",
    "        if i > 25:\n",
    "            break\n",
    "print(purchases)            "
   ]
  },
  {
   "cell_type": "markdown",
   "id": "e5af6a98",
   "metadata": {},
   "source": [
    "## Для каждого user_id в файле visit_log.csv определите третий столбец с категорией покупки (если покупка была, сам файл visit_log.csv изменять не надо). Запишите в файл funnel.csv визиты из файла visit_log.csv, в которых были покупки с указанием категории.\n",
    "\n",
    "Учтите условия на данные:\n",
    "содержимое purchase_log.txt помещается в оперативную память компьютера\n",
    "содержимое visit_log.csv - нет; используйте только построчную обработку этого файла"
   ]
  },
  {
   "cell_type": "code",
   "execution_count": 3,
   "id": "f9208cfe",
   "metadata": {},
   "outputs": [],
   "source": [
    "user_id = []\n",
    "category = []\n",
    "with open('purchase_log.txt', 'r', encoding = 'utf-8') as f:\n",
    "    next(f)\n",
    "    for line in f:\n",
    "        line = json.loads(line)\n",
    "        purchase = list(line.values())\n",
    "        user_id.append(purchase[0])\n",
    "        category.append(purchase[1])\n",
    "\n",
    "with open('visit_log.csv', 'r') as f1:\n",
    "    next(f1)\n",
    "    with open('funnel.csv', 'w') as f2write:\n",
    "        f2write.write('user_id,source,category' + '\\n')\n",
    "        for line in f1:\n",
    "            line = line.strip().split(',')\n",
    "            if line[0] in user_id:\n",
    "                index_user_id = user_id.index(line[0]) \n",
    "                visit = str(line[0]) + ',' + str(line[1]) + ',' + str(category[index_user_id] + '\\n')\n",
    "                f2write.write(visit)        "
   ]
  }
 ],
 "metadata": {
  "kernelspec": {
   "display_name": "Python 3",
   "language": "python",
   "name": "python3"
  },
  "language_info": {
   "codemirror_mode": {
    "name": "ipython",
    "version": 3
   },
   "file_extension": ".py",
   "mimetype": "text/x-python",
   "name": "python",
   "nbconvert_exporter": "python",
   "pygments_lexer": "ipython3",
   "version": "3.8.8"
  }
 },
 "nbformat": 4,
 "nbformat_minor": 5
}
