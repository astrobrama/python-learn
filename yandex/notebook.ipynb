{
 "cells": [
  {
   "cell_type": "markdown",
   "metadata": {},
   "source": [
    "<div class=\"alert alert-success\">\n",
    "<font size=\"5\"><b>Комментарий ревьюера 0</b></font>\n",
    "\n",
    "Привет, Варвара! Спасибо, что прислала задание:) Меня зовут Слепцов Артем и я буду проверять твой проект) К сожалению, я не могу запустить твою работу полностью из-за ошибки в коде. По правилам я должен вернуть тебе проект. Как исправишь неточность, присылай работу снова. Буду ждать :)\n",
    "</div>"
   ]
  },
  {
   "cell_type": "markdown",
   "metadata": {},
   "source": [
    "<div class=\"alert alert-success\">\n",
    "<font size=\"5\"><b>Ответ на комментарий</b></font>\n",
    "\n",
    "Привет, Артем! Спасибо за комментарии! \n",
    "\n",
    "Действительно, у меня на локальном компьютере файл game.csv лежит в той же папке, что и ноутбук. Поэтому, если запустить только ноутбук, без файла, то он выдаст ошибку.\n",
    "\n",
    "С другой стороны, если формально указать путь к файлу: /datasets/games.csv, как это обозначено в задании, то проект не будет запускаться уже у меня.\n",
    "\n",
    "Поэтому сделала компромиссный вариант - указала полную ссылку на путь к файлу: https://code.s3.yandex.net/datasets/games.csv \n",
    "\n",
    "Думаю, так должно сработать :) }\n",
    "</div>"
   ]
  },
  {
   "cell_type": "markdown",
   "metadata": {},
   "source": [
    "<div class=\"alert alert-success\">\n",
    "<font size=\"5\"><b>Комментарий ревьюера</b></font>\n",
    "\n",
    "Привет! Спасибо, что исправила задание:) Теперь код работает без ошибок, все хорошо. Ты проделала большую работу над проектом, однако его еще можно улучшить. Будет здорово, если ты, надеюсь, не против, если я буду на ты, будешь отвечать на комментарии и участвовать в диалоге. \n",
    "\n",
    "Мои комментарии обозначены пометкой **Комментарий ревьюера**. Далее в файле ты сможешь найти их в похожих ячейках (если фон комментария <font color=green>зелёный</font> - всё сделано правильно. Рекомендации укажу таким же цветом; <font color=orange>оранжевый</font> - некритичные замечания. Если таких замечаний меньше трех - проект может быть принят без их отработки; <font color=red>красный</font> - нужно переделать). Не удаляй эти комментарии и постарайся учесть их в ходе выполнения данного проекта. \n",
    "</div>"
   ]
  },
  {
   "cell_type": "markdown",
   "metadata": {},
   "source": [
    "# Интернет-магазин \"Стримчик\""
   ]
  },
  {
   "cell_type": "markdown",
   "metadata": {},
   "source": [
    "## Описание проекта"
   ]
  },
  {
   "cell_type": "markdown",
   "metadata": {},
   "source": [
    "Интернет-магазин «Стримчик» продаёт компьютерные игры по всему миру. Из открытых источников доступны исторические данные о продажах игр, оценки пользователей и экспертов, жанры и платформы. \n",
    "\n",
    "**Цель:** выявить определяющие успешность игры закономерности. Это позволит сделать ставку на потенциально популярный продукт и спланировать рекламные кампании."
   ]
  },
  {
   "cell_type": "markdown",
   "metadata": {},
   "source": [
    "## Описание данных games.csv"
   ]
  },
  {
   "cell_type": "markdown",
   "metadata": {},
   "source": [
    "- **Name** — название игры\n",
    "- **Platform** — платформа\n",
    "- **Year_of_Release** — год выпуска\n",
    "- **Genre** — жанр игры\n",
    "- **NA_sales** — продажи в Северной Америке (миллионы долларов)\n",
    "- **EU_sales** — продажи в Европе (миллионы долларов)\n",
    "- **JP_sales** — продажи в Японии (миллионы долларов)\n",
    "- **Other_sales** — продажи в других странах (миллионы долларов)\n",
    "- **Critic_Score** — оценка критиков (от 0 до 100)\n",
    "- **User_Score** — оценка пользователей (от 0 до 10)\n",
    "- **Rating** — рейтинг от организации ESRB (англ. Entertainment Software Rating Board). "
   ]
  },
  {
   "cell_type": "markdown",
   "metadata": {},
   "source": [
    "<div class=\"alert alert-success\">\n",
    "<font size=\"5\"><b>Комментарий ревьюера</b></font>\n",
    "\n",
    "Вступление в работу очень важно. Так ты поясняешь то, чему она посвящена. Еще лучше будет, если ты сделаешь план работы с гиперссылками. Да, есть плагин ToC. Но хорошо бы уметь реализовывать интерактивный план проекта вручную. Как это реализовать - смотри по [ссылке](https://stackoverflow.com/questions/49535664/how-to-hyperlink-in-a-jupyter-notebook/49717704).\n",
    "\n",
    "</div>"
   ]
  },
  {
   "cell_type": "markdown",
   "metadata": {},
   "source": [
    "## Подготовка данных"
   ]
  },
  {
   "cell_type": "markdown",
   "metadata": {},
   "source": [
    "<div class=\"alert alert-warning\">\n",
    "<font size=\"5\"><b>Комментарий ревьюера 0</b></font>\n",
    "\n",
    "Я заметил, что ячейки в твоей тетрадке начинаются не с 1. Перед отправкой работы рекомендую перезапускать ноутбук, чтобы убедиться, что все ячейки выполняются корректно.\n",
    "\n",
    "</div>"
   ]
  },
  {
   "cell_type": "markdown",
   "metadata": {},
   "source": [
    "<div class=\"alert alert-success\">\n",
    "<font size=\"5\"><b>Комментарий ревьюера</b></font>\n",
    "\n",
    "В перезапуске проекта тебе поможет Kernel => Restart & Run All.\n",
    "\n",
    "</div>"
   ]
  },
  {
   "cell_type": "code",
   "execution_count": null,
   "metadata": {},
   "outputs": [],
   "source": [
    "# Загружаем необходимые библиотеки\n",
    "import pandas as pd\n",
    "import numpy as np\n",
    "import matplotlib.pyplot as plt\n",
    "from scipy import stats as st"
   ]
  },
  {
   "cell_type": "code",
   "execution_count": null,
   "metadata": {},
   "outputs": [],
   "source": [
    "# Читаем датасет из файла games.csv\n",
    "df = pd.read_csv('https://code.s3.yandex.net/datasets/games.csv')"
   ]
  },
  {
   "cell_type": "code",
   "execution_count": null,
   "metadata": {},
   "outputs": [],
   "source": [
    "# Предварительное знакомство с данными\n",
    "df.head()"
   ]
  },
  {
   "cell_type": "markdown",
   "metadata": {},
   "source": [
    "Предварительный анализ показал, что в данных есть пропущенные значения. В названиях колонок есть символы в верхнем регистре (требуется привести к нижнему регистру). Можно заподозрить, что год релиза записан в формате float, что тоже может потребовать приведения к верному формату. "
   ]
  },
  {
   "cell_type": "code",
   "execution_count": null,
   "metadata": {},
   "outputs": [],
   "source": [
    "# Получаем предварительную информацию о датасете\n",
    "df.info()"
   ]
  },
  {
   "cell_type": "markdown",
   "metadata": {},
   "source": [
    "В датасете 11 колонок и 16715 строк. Из них 5 колонок имеют строковый формат и 6 числовой.\n",
    "Как и предполагалось, в датасете есть пропущенные значения (разное количество значений в разных колонках), а год записан в формате float64. Кроме того, колонка user_score имеет строковый формат object, а должен быть числовой float64. "
   ]
  },
  {
   "cell_type": "code",
   "execution_count": null,
   "metadata": {},
   "outputs": [],
   "source": [
    "# Переводим названия колонок в нижний регистр\n",
    "(df.rename(columns = {'Name': 'name', 'Platform': 'platform','Year_of_Release': 'year_of_release',\n",
    "                      'Genre': 'genre', 'NA_sales': 'na_sales', 'EU_sales': 'eu_sales',\n",
    "                      'JP_sales': 'jp_sales', 'Other_sales': 'other_sales',\n",
    "                      'Critic_Score': 'critic_score','User_Score': 'user_score',\n",
    "                      'Rating': 'rating'}, inplace = True))\n",
    "df.columns"
   ]
  },
  {
   "cell_type": "markdown",
   "metadata": {},
   "source": [
    "<div class=\"alert alert-warning\">\n",
    "<font size=\"5\"><b>Комментарий ревьюера</b></font>\n",
    "\n",
    "Не надо переименовывать столбцы через атрибут columns, потому что так ты неявно учитываешь порядок столбцов. Если порядок столбцов поменяется, код перестанет работать. Используй вместо этого метод rename().\n",
    "    \n",
    "</div>"
   ]
  },
  {
   "cell_type": "markdown",
   "metadata": {},
   "source": [
    "<div class=\"alert alert-warning\">\n",
    "<font size=\"5\"><b>Мой ответ</b></font>\n",
    "\n",
    "Спасибо, исправила.    \n",
    "</div>"
   ]
  },
  {
   "cell_type": "code",
   "execution_count": null,
   "metadata": {},
   "outputs": [],
   "source": [
    "# Переводим колонку user_score в числовой формат\n",
    "df['user_score'] = pd.to_numeric(df['user_score'], errors='coerce')\n",
    "#df['year_of_release'] = df['year_of_release'].fillna(0)\n",
    "#df['year_of_release'] = df['year_of_release'].astype(int, errors='ignore')\n",
    "#df['year_of_release'] = pd.to_datetime(df['year_of_release'], format='%Y').dt.year\n",
    "df.head()"
   ]
  },
  {
   "cell_type": "markdown",
   "metadata": {},
   "source": [
    "<div class=\"alert alert-success\">\n",
    "<font size=\"5\"><b>Комментарий ревьюера</b></font>\n",
    "\n",
    "Верно, по своей сути tbd и является Nan. Отлично, что определяешь неявные пропущенные значения.\n",
    "\n",
    "</div>"
   ]
  },
  {
   "cell_type": "markdown",
   "metadata": {},
   "source": [
    "### Обработка пропусков"
   ]
  },
  {
   "cell_type": "markdown",
   "metadata": {},
   "source": [
    "В данном случае пропуски не требуют обработки, так как автоматически заменяются на NaN при считывании датафрейма из файла с помощью df = pd.read_csv('games.csv'): параметр keep_default_na, отвечающий за замену пропусков на NaN по умолчанию равен True.\n",
    "\n",
    "Наибольшее количество пропусков наблюдается в трех последних столбцах - рейтинг и оценки. Очевидно, эти данные по каким-то причинам не внесены или не известны. Изначально удалять строки с пропусками в колонках оценок нет смысла - можем потерять ценную информацию по другим колонкам. Строки с пропусками можно будет удалить позже - по мене необходимости.\n",
    "\n",
    "В колонке с пользовательской оценкой user_score встречается тип оценки \"tbd\", что, очевидно, означает to be done. Вероятно, эти игры только планируется оценить. Значения tbd были изменены на NaN при переводе колонки в числовой формат (параметр errors = 'coerce'), так как, по сути, это то же самое, что и отсутствие оценки.\n",
    "\n",
    "Пыталась также перевести колонку year_of_release в формат даты. Но отказалась от этой идеи. Выполнение команды\n",
    "\n",
    "> df['year_of_release'] = pd.to_datetime(df['year_of_release'], format='%Y')\n",
    "\n",
    "выдает результат в формате 2010-01-01, а вариант\n",
    "\n",
    "> df['year_of_release'] = pd.to_datetime(df['year_of_release'], format='%Y').dt.year \n",
    "\n",
    "возвращает данные в формат float64 - т.е., год все равно отображается в виде 2010.0.\n",
    "\n",
    "Как вариант, можно было попробовать заменить формат на int, но для этого пропущенные значения пришлось бы предварительно заполнить, например, нулями. В итоге решила, что для нашей задачи формат года не столь важен и оставила в исходном варианте."
   ]
  },
  {
   "cell_type": "code",
   "execution_count": null,
   "metadata": {},
   "outputs": [],
   "source": [
    "# Суммарные продажи по всем регионам, total_sales\n",
    "df['total_sales'] = df.loc[:,['na_sales','eu_sales','jp_sales','other_sales']].sum(axis=1)\n",
    "df.head()"
   ]
  },
  {
   "cell_type": "markdown",
   "metadata": {},
   "source": [
    "<div class=\"alert alert-success\">\n",
    "<font size=\"5\"><b>Комментарий ревьюера</b></font>\n",
    "\n",
    "Да, восстановить пропущенные значения мы не можем. Данных для этого недостаточно. Лучше работать с меньшим количеством данных хорошего качества.\n",
    "    \n",
    "Ошибки в данных устранены. Данные подготовлены к дальнейшему анализу. \n",
    "\n",
    "</div>"
   ]
  },
  {
   "cell_type": "markdown",
   "metadata": {},
   "source": [
    "## Исследовательский анализ данных"
   ]
  },
  {
   "cell_type": "markdown",
   "metadata": {},
   "source": [
    "Посмотрим, сколько игр выпускалось в разные годы"
   ]
  },
  {
   "cell_type": "code",
   "execution_count": null,
   "metadata": {
    "scrolled": true
   },
   "outputs": [],
   "source": [
    "# Посмотрим, сколько игр выпускалось в разные годы\n",
    "df.groupby('year_of_release')['name'].count().reset_index(drop=False)"
   ]
  },
  {
   "cell_type": "markdown",
   "metadata": {},
   "source": [
    "Заметный рост количества выпускаемых игр начался с 1994 года. С 2009 года количество выпускаемых игр начинает уменьшаться. При этом в 2012 году наблюдается резкий спад - количество выпускаемых игр уменьшается почти в 2 раза по сравнению с предыдущим годом. В последующие годы никаких существенных трендов не наблюдается - количество выпускаемых игр колеблется в диапазоне около 500 - 600 игр в год. "
   ]
  },
  {
   "cell_type": "code",
   "execution_count": null,
   "metadata": {},
   "outputs": [],
   "source": [
    "# График изменения количества игр, выпущенных в разные годы\n",
    "(df.groupby('year_of_release')['name'].count().reset_index(drop=False).plot(x='year_of_release',y='name'))\n",
    "plt.show()"
   ]
  },
  {
   "cell_type": "markdown",
   "metadata": {},
   "source": [
    "<div class=\"alert alert-success\">\n",
    "<font size=\"5\"><b>Комментарий ревьюера</b></font>\n",
    "\n",
    "Как думаешь, с чем связан спад в индустрии последних лет?\n",
    "\n",
    "</div>"
   ]
  },
  {
   "cell_type": "markdown",
   "metadata": {},
   "source": [
    "<div class=\"alert alert-success\">\n",
    "<font size=\"5\"><b>Мой ответ</b></font>\n",
    "\n",
    "Сложно сказать, так как я от этой темы далека :) Могу предположить, что начали развиваться многопользовательские онлайн игры, а они уже не продаются через интернет-магазины. И там другая система заработка - например, продажи дополнительных атрибутов из игр. То есть, важно не количество выпускаемых игр, а размер, вовлеченность и готовность к дополнительным покупкам игровой аудитории\n",
    "\n",
    "</div>"
   ]
  },
  {
   "cell_type": "code",
   "execution_count": null,
   "metadata": {
    "scrolled": true
   },
   "outputs": [],
   "source": [
    "# Платформы с наибольшими суммарными продажами\n",
    "platform_sales = (df.groupby('platform')['total_sales'].sum().sort_values(ascending=False)\n",
    "                  .reset_index(drop=False))\n",
    "platform_sales"
   ]
  },
  {
   "cell_type": "code",
   "execution_count": null,
   "metadata": {},
   "outputs": [],
   "source": [
    "platform_sales.plot.bar(x='platform',y='total_sales')\n",
    "plt.show()"
   ]
  },
  {
   "cell_type": "markdown",
   "metadata": {},
   "source": [
    "<div class=\"alert alert-warning\">\n",
    "<font size=\"5\"><b>Комментарий ревьюера</b></font>\n",
    "\n",
    "Очень не хватает графиков по таблицам выше. Старайся визуализировать получаемую в работе информацию.\n",
    "\n",
    "</div>"
   ]
  },
  {
   "cell_type": "markdown",
   "metadata": {},
   "source": [
    "<div class=\"alert alert-warning\">\n",
    "<font size=\"5\"><b>Мой ответ</b></font>\n",
    "\n",
    " Спасибо, графики добавила.\n",
    "\n",
    "</div>"
   ]
  },
  {
   "cell_type": "code",
   "execution_count": null,
   "metadata": {},
   "outputs": [],
   "source": [
    "# Для дальнейшего анализа берем первые 6 платформ. Так как дальше суммарные продажи резко падают.\n",
    "top6_platform = (df.groupby('platform')['total_sales'].sum().\n",
    "                  sort_values(ascending=False).head(6).reset_index(drop=False))\n",
    "top6_platform"
   ]
  },
  {
   "cell_type": "code",
   "execution_count": null,
   "metadata": {},
   "outputs": [],
   "source": [
    "# Для выбранных топ-6 платформ построим распределение суммарных продаж по годам\n",
    "top6_pivot = (df[df['platform'].isin(top6_platform.loc[:,'platform'])]\n",
    "              .groupby(['year_of_release','platform'],as_index = False)['total_sales']\n",
    "              .sum().pivot('year_of_release','platform'))\n",
    "top6_pivot"
   ]
  },
  {
   "cell_type": "code",
   "execution_count": null,
   "metadata": {},
   "outputs": [],
   "source": [
    "# Среднее время жизни популярной платформы на рынке\n",
    "lifetime = top6_pivot['total_sales'].count()\n",
    "mean_lifetime = round(lifetime.sum()/6)\n",
    "mean_lifetime"
   ]
  },
  {
   "cell_type": "markdown",
   "metadata": {},
   "source": [
    "Из таблицы видно, что у ранее популярных платформ DS, PS, PS2 сегодня нулевые продажи. Среднее \"время жизни\" популярной платформы на рынке - 11 лет."
   ]
  },
  {
   "cell_type": "code",
   "execution_count": null,
   "metadata": {},
   "outputs": [],
   "source": [
    "top6_pivot.plot()\n",
    "plt.show()"
   ]
  },
  {
   "cell_type": "code",
   "execution_count": null,
   "metadata": {},
   "outputs": [],
   "source": [
    "# Распределение суммарных продаж по годам для всех платформ\n",
    "sales_all = (df.groupby(['year_of_release','platform'],as_index = False)\n",
    "             ['total_sales'].sum().pivot('year_of_release', 'platform'))\n",
    "sales_all"
   ]
  },
  {
   "cell_type": "code",
   "execution_count": null,
   "metadata": {},
   "outputs": [],
   "source": [
    "# Среднее время жизни платформы на рынке - для всех платформ\n",
    "lifetime_all = (df.groupby(['year_of_release','platform'],as_index = False)['total_sales']\n",
    "              .sum().pivot('year_of_release','platform')['total_sales'].count())\n",
    "lifetime_all_mean = round(lifetime_all.sum()/30)\n",
    "lifetime_all_mean"
   ]
  },
  {
   "cell_type": "code",
   "execution_count": null,
   "metadata": {},
   "outputs": [],
   "source": [
    "lifetime_all.hist()\n",
    "plt.show()"
   ]
  },
  {
   "cell_type": "code",
   "execution_count": null,
   "metadata": {},
   "outputs": [],
   "source": [
    "# Среднее время жизни платформы на рынке - для всех платформ, кроме РС\n",
    "lifetime_all_pc = (df[df['platform'] != 'PC'].groupby(['year_of_release','platform'],as_index = False)['total_sales']\n",
    "                   .sum().pivot('year_of_release','platform')['total_sales'].count())\n",
    "lifetime_all_pc_mean = round(lifetime_all.sum()/29)\n",
    "lifetime_all_pc_mean"
   ]
  },
  {
   "cell_type": "code",
   "execution_count": null,
   "metadata": {},
   "outputs": [],
   "source": [
    "lifetime_all_pc.hist()\n",
    "plt.show()"
   ]
  },
  {
   "cell_type": "markdown",
   "metadata": {},
   "source": [
    "<div class=\"alert alert-warning\">\n",
    "<font size=\"5\"><b>Комментарий ревьюера</b></font>\n",
    "\n",
    "Значение средней продолжительности существования платформы приведено. Однако выводы ты делаешь по таблице и графику. Стоит также привести расчет данного значения. Подумай, стоит ли включать в расчет все платформы. Будут ли выбросы по продолжительности существования платформ?\n",
    "\n",
    "</div>"
   ]
  },
  {
   "cell_type": "markdown",
   "metadata": {},
   "source": [
    "<div class=\"alert alert-warning\">\n",
    "<font size=\"5\"><b>Мой ответ</b></font>\n",
    "\n",
    "Расчеты средней продолжительности существования платформ привела - отдельно для популярных платформ, отдельно для всех платформ и отдельно для всех платформ, кроме РС. \n",
    "\n",
    "Выброс по продолжительности существования платформ один - это PC. Но, как показал расчет, он не влияет на среднее значение.\n",
    "\n",
    "Переписала ячейку ниже с учетом этих фактов.\n",
    "</div>"
   ]
  },
  {
   "cell_type": "markdown",
   "metadata": {},
   "source": [
    "Таким образом, в среднем, популярные платформы существуют 11 лет, что на 3 года дольше времени существования среднестатистической платформы (8 лет). Для дальнейшего анализа будем считать время существования платформы равным 8 лет. Чтобы исключить значимое искажение распределения по платформам в 2016 году, возьмем промежуток с 2008 по 2015 годы.   "
   ]
  },
  {
   "cell_type": "markdown",
   "metadata": {},
   "source": [
    "<div class=\"alert alert-danger\">\n",
    "<font size=\"5\"><b>Комментарий ревьюера</b></font>\n",
    "\n",
    "Т.е. для построения прогноза на 2017 год мы будем использовать данные с 2006 по 2011 год? Согласись, звучит несколько необычно. Последние года обязательно должны быть в анализе, именно они и станут основой нашего прогноза на 2017 год. \n",
    "\n",
    "</div>"
   ]
  },
  {
   "cell_type": "markdown",
   "metadata": {},
   "source": [
    "<div class=\"alert alert-danger\">\n",
    "<font size=\"5\"><b>Мой ответ</b></font>\n",
    "\n",
    "Переделала для диапазона 2012-2015.\n",
    "\n",
    "</div>"
   ]
  },
  {
   "cell_type": "code",
   "execution_count": null,
   "metadata": {},
   "outputs": [],
   "source": [
    "# Рейтинг платформ с наибольшими суммарными продажами с 2012 по 2015 год\n",
    "top_platforms_1215 = (df[(df['year_of_release'] >= 2012.0) & (df['year_of_release'] <= 2015.0)]\n",
    "                      .groupby('platform')['total_sales'].sum().sort_values(ascending=False)\n",
    "                      .reset_index(drop=False))\n",
    "top_platforms_1215"
   ]
  },
  {
   "cell_type": "code",
   "execution_count": null,
   "metadata": {},
   "outputs": [],
   "source": [
    "# Построим сводную таблицу суммарных продаж для выбранных платформ за 2012-2015 годы\n",
    "top_platforms_1215_pivot = (df[(df['year_of_release'] >= 2012.0) & (df['year_of_release'] <= 2015.0)]\n",
    "                            .groupby(['year_of_release','platform'],as_index = False)['total_sales']\n",
    "                            .sum().pivot('year_of_release','platform'))\n",
    "top_platforms_1215_pivot"
   ]
  },
  {
   "cell_type": "markdown",
   "metadata": {},
   "source": [
    "<div class=\"alert alert-danger\">\n",
    "<font size=\"5\"><b>Комментарий ревьюера</b></font>\n",
    "\n",
    "Сейчас у тебя в периоде содержится 3 этапа развития индустрии: рост до 2008 года, пик 2008 и 2009 годов, а также сокращение рынка последних годов. Также большей части платформ уже нет в 2016 году, в построении прогноза на 2017 год они нам не помогут. Исправь выбранный период. Рассматривай только конечный на данный момент интервал развития игровой индустрии. \n",
    "\n",
    "</div>"
   ]
  },
  {
   "cell_type": "markdown",
   "metadata": {},
   "source": [
    "<div class=\"alert alert-danger\">\n",
    "<font size=\"5\"><b>Мой ответ</b></font>\n",
    "\n",
    "Переделала для диапазона 2012-2015 год. В эти годы наблюдаются устойчиво-низкие продажи.\n",
    "\n",
    "</div>"
   ]
  },
  {
   "cell_type": "code",
   "execution_count": null,
   "metadata": {},
   "outputs": [],
   "source": [
    "# Отобразим сводную таблицу в виде графика\n",
    "top_platforms_1215_pivot.plot(figsize = (12,6))\n",
    "plt.show()"
   ]
  },
  {
   "cell_type": "markdown",
   "metadata": {},
   "source": [
    "<div class=\"alert alert-danger\">\n",
    "<font size=\"5\"><b>Комментарий ревьюера</b></font>\n",
    "\n",
    "Нам надо выделить перспективные платформы на 2017 год. Рассмотри продажи всех платформ последнего времени и выбери из них перспективные. \n",
    "\n",
    "</div>"
   ]
  },
  {
   "cell_type": "markdown",
   "metadata": {},
   "source": [
    "<div class=\"alert alert-danger\">\n",
    "<font size=\"5\"><b>Мой ответ</b></font>\n",
    "\n",
    "Сделала. См. ячейку ниже.\n",
    "</div>"
   ]
  },
  {
   "cell_type": "markdown",
   "metadata": {},
   "source": [
    "Лидируют по продажам платформы XOne и PS4, продажи этих платформ растут. Кроме того, потенциально прибыльными в ближайший год могут оставаться платформы 3DS, WiiU, PC хотя продажи этих платформ постепенно снижаются. Эти 5 платформ можно выделить как перспективные на 2017 год."
   ]
  },
  {
   "cell_type": "code",
   "execution_count": null,
   "metadata": {},
   "outputs": [],
   "source": [
    "# Построим \"ящик с усами\" для выбранных платформ\n",
    "(df[(df['year_of_release'] >= 2012.0) & (df['year_of_release'] <= 2015.0) \n",
    "    & (df['platform'].isin(['XOne','PS4','3DS','WiiU','PC']))]\n",
    " .groupby(['year_of_release','platform'],as_index = False)['total_sales']\n",
    " .sum().pivot('year_of_release','platform')).boxplot(figsize=(12,6))\n",
    "plt.show()"
   ]
  },
  {
   "cell_type": "markdown",
   "metadata": {},
   "source": [
    "Большой диапазон продаж наблюдается у новых платформ PS4, XOne. У этих же платформ наблюдается скошенность влево из-за того, что пока мало данных.  PS4 - безусловный лидер продаж. У XOne и 3DS средние суммарные продажи близки по величине: первая только набирает популярность, вторая - теряет. Самые низкие средние продажи у \"долгожителя\" рынка - РС и платформы WiiU. У WiiU данные распределены более компактно - ни существенного роста, ни падения продаж, платформа умеренно-популярная."
   ]
  },
  {
   "cell_type": "markdown",
   "metadata": {},
   "source": [
    "<div class=\"alert alert-success\">\n",
    "<font size=\"5\"><b>Комментарий ревьюера</b></font>\n",
    " \n",
    "Подумай, из-за чего формируется разница между платформами. Старайся не только описывать результат, но и трактовать его. \n",
    "\n",
    "</div>"
   ]
  },
  {
   "cell_type": "markdown",
   "metadata": {},
   "source": [
    "Посмотрим, как влияют на продажи внутри популярной платформы Х360 отзывы пользователей и критиков."
   ]
  },
  {
   "cell_type": "code",
   "execution_count": null,
   "metadata": {},
   "outputs": [],
   "source": [
    "# Выберем из общей таблицы данные, относящиеся к платформе X360\n",
    "sales_x360 = (df[(df['year_of_release'] >= 2012.0) & (df['year_of_release'] <= 2015.0) &\n",
    "                             (df['platform'] == 'X360')])\n",
    "sales_x360.head()"
   ]
  },
  {
   "cell_type": "code",
   "execution_count": null,
   "metadata": {},
   "outputs": [],
   "source": [
    "# Диаграмма рассеяния \"отзывы критиков - суммарные продажи\" \n",
    "sales_x360.plot(x='critic_score', y='total_sales', kind='scatter')\n",
    "plt.show()"
   ]
  },
  {
   "cell_type": "code",
   "execution_count": null,
   "metadata": {},
   "outputs": [],
   "source": [
    "# Диаграмма рассеяния \"отзывы пользователей - суммарные продажи\" \n",
    "sales_x360.plot(x='user_score',y='total_sales', kind='scatter')\n",
    "plt.show()"
   ]
  },
  {
   "cell_type": "code",
   "execution_count": null,
   "metadata": {},
   "outputs": [],
   "source": [
    "# Чтобы посчитать корреляцию, удаляем пропущенные значения из колонок с оценками пользователей \n",
    "# и критиков\n",
    "sales_x360.dropna(subset=['user_score', 'critic_score']) \n",
    "sales_x360.corr()"
   ]
  },
  {
   "cell_type": "markdown",
   "metadata": {},
   "source": [
    "Из таблицы видно, что оценки критиков больше влияют на суммарные продажи, чем оценки пользователей.\n",
    "*Примечание:* на обеих диаграммах рассеяния есть вылетающие точки при значениях total_sales > 12. Для более точного расчета коэффициента корреляции можно было бы убрать эти точки. Тогда коэффициенты корреляции \"оценка критиков - суммарные продажи\" составит 0.49, \"оценка пользователея - суммарные продажи\" - 0.26. Но для качественного сравнения это не принципиально. "
   ]
  },
  {
   "cell_type": "markdown",
   "metadata": {},
   "source": [
    "Посмотрим, как влияют на продажи отзывы пользователей и критиков для выбранных нами платформ PS4, XOne, 3DS, РС, WiiU. "
   ]
  },
  {
   "cell_type": "code",
   "execution_count": null,
   "metadata": {},
   "outputs": [],
   "source": [
    "# Выберем из общей таблицы данные, относящиеся к платформе PS4\n",
    "sales_ps4 = (df[(df['year_of_release'] >= 2012.0) & (df['year_of_release'] <= 2015.0) &\n",
    "                             (df['platform'] == 'PS4')])\n",
    "sales_ps4.dropna(subset=['user_score', 'critic_score']) \n",
    "sales_ps4.corr()"
   ]
  },
  {
   "cell_type": "code",
   "execution_count": null,
   "metadata": {},
   "outputs": [],
   "source": [
    "# Выберем из общей таблицы данные, относящиеся к платформе XOne\n",
    "sales_xone = (df[(df['year_of_release'] >= 2012.0) & (df['year_of_release'] <= 2015.0) &\n",
    "                             (df['platform'] == 'XOne')])\n",
    "sales_xone.dropna(subset=['user_score', 'critic_score']) \n",
    "sales_xone.corr()"
   ]
  },
  {
   "cell_type": "code",
   "execution_count": null,
   "metadata": {},
   "outputs": [],
   "source": [
    "# Выберем из общей таблицы данные, относящиеся к платформе 3DS\n",
    "sales_3ds = (df[(df['year_of_release'] >= 2012.0) & (df['year_of_release'] <= 2015.0) &\n",
    "                             (df['platform'] == '3DS')])\n",
    "sales_3ds.dropna(subset=['user_score', 'critic_score']) \n",
    "sales_3ds.corr()"
   ]
  },
  {
   "cell_type": "code",
   "execution_count": null,
   "metadata": {},
   "outputs": [],
   "source": [
    "# Выберем из общей таблицы данные, относящиеся к платформе PC\n",
    "sales_pc = (df[(df['year_of_release'] >= 2012.0) & (df['year_of_release'] <= 2015.0) &\n",
    "                             (df['platform'] == 'PC')])\n",
    "sales_pc.dropna(subset=['user_score', 'critic_score']) \n",
    "sales_pc.corr()"
   ]
  },
  {
   "cell_type": "code",
   "execution_count": null,
   "metadata": {},
   "outputs": [],
   "source": [
    "# Выберем из общей таблицы данные, относящиеся к платформе WiiU\n",
    "sales_wiiu = (df[(df['year_of_release'] >= 2012.0) & (df['year_of_release'] <= 2015.0) &\n",
    "                             (df['platform'] == 'WiiU')])\n",
    "sales_wiiu.dropna(subset=['user_score', 'critic_score']) \n",
    "sales_wiiu.corr()"
   ]
  },
  {
   "cell_type": "markdown",
   "metadata": {},
   "source": [
    "*Вывод:* у набирающих популярность платформ XOne и PS4, а также платформы-\"долгожителя\" РС, более важна оценка критиков. У теряющих популярность платформ 3DS и WiiU усиливается влияние на продажи оценок пользователей. Таким образом, при запуске нового продукта следует обращать внимание на оценку критиков."
   ]
  },
  {
   "cell_type": "markdown",
   "metadata": {},
   "source": [
    "<div class=\"alert alert-success\">\n",
    "<font size=\"5\"><b>Комментарий ревьюера</b></font>\n",
    "\n",
    "Результат получен. Подумай, чем он вызван. Здорово, что рассмотрены несколько платформ. \n",
    "\n",
    "</div>"
   ]
  },
  {
   "cell_type": "markdown",
   "metadata": {},
   "source": [
    "<div class=\"alert alert-success\">\n",
    "<font size=\"5\"><b>Мой ответ</b></font>\n",
    "\n",
    "Вероятно, когда игра новая, то отзывов еще мало. Смотрят разные рейтинги, обзоры критиков, прежде чем купить. \n",
    "\n",
    "</div>"
   ]
  },
  {
   "cell_type": "code",
   "execution_count": null,
   "metadata": {},
   "outputs": [],
   "source": [
    "# Общее распределение игр по жанрам\n",
    "genre_sales = (df.groupby('genre')['total_sales'].sum().sort_values(ascending=False)\n",
    "               .reset_index(drop=False))\n",
    "genre_sales"
   ]
  },
  {
   "cell_type": "markdown",
   "metadata": {},
   "source": [
    "Таким образом, топ-3 популярных жанров - Action, Sports, Shooter. Топ-3 аутсайдеров - Puzzle, Adventure, Strategy. Разница продаж между самым популярным и самым маловостребованным жанром составляет 10 раз."
   ]
  },
  {
   "cell_type": "markdown",
   "metadata": {},
   "source": [
    "<div class=\"alert alert-success\">\n",
    "<font size=\"5\"><b>Комментарий ревьюера</b></font>\n",
    "\n",
    "Анализ популярности жанров проведен. Однако не стоит забывать, что производство игр в жанрах Action или Shooter обходится сильно дороже, чем производство Puzzle-игр. \n",
    "\n",
    "</div>"
   ]
  },
  {
   "cell_type": "markdown",
   "metadata": {},
   "source": [
    "### Портрет пользователя по регионам ###"
   ]
  },
  {
   "cell_type": "markdown",
   "metadata": {},
   "source": [
    "#### Сравнение популярности платформ по регионам  ####"
   ]
  },
  {
   "cell_type": "code",
   "execution_count": null,
   "metadata": {},
   "outputs": [],
   "source": [
    "# Самые популярные платформы в Северной Америке\n",
    "top5_platform_na = (df.groupby('platform')['na_sales'].sum().\n",
    "                  sort_values(ascending=False).head(5).reset_index(drop=False))\n",
    "top5_platform_na = top5_platform_na.merge(platform_sales,on='platform',how='left')\n",
    "top5_platform_na['na_in_total_sales,%'] = (round((top5_platform_na['na_sales'] \n",
    "                                                  / top5_platform_na['total_sales'])*100))\n",
    "top5_platform_na = top5_platform_na.drop('total_sales', axis=1)\n",
    "top5_platform_na"
   ]
  },
  {
   "cell_type": "code",
   "execution_count": null,
   "metadata": {},
   "outputs": [],
   "source": [
    "# Самые популярные платформы в Европе\n",
    "top5_platform_eu = (df.groupby('platform')['eu_sales'].sum().\n",
    "                  sort_values(ascending=False).head(5).reset_index(drop=False))\n",
    "top5_platform_eu = top5_platform_eu.merge(platform_sales,on='platform',how='left')\n",
    "top5_platform_eu['eu_in_total_sales,%'] = (round((top5_platform_eu['eu_sales'] \n",
    "                                                  / top5_platform_eu['total_sales'])*100))\n",
    "top5_platform_eu = top5_platform_eu.drop('total_sales', axis=1)\n",
    "top5_platform_eu"
   ]
  },
  {
   "cell_type": "code",
   "execution_count": null,
   "metadata": {},
   "outputs": [],
   "source": [
    "# Самые популярные платформы в Японии\n",
    "top5_platform_jp = (df.groupby('platform')['jp_sales'].sum().\n",
    "                  sort_values(ascending=False).head(5).reset_index(drop=False))\n",
    "top5_platform_jp = top5_platform_jp.merge(platform_sales,on='platform',how='left')\n",
    "top5_platform_jp['jp_in_total_sales,%'] = (round((top5_platform_jp['jp_sales'] \n",
    "                                                  / top5_platform_jp['total_sales'])*100))\n",
    "top5_platform_jp = top5_platform_jp.drop('total_sales', axis=1)\n",
    "top5_platform_jp"
   ]
  },
  {
   "cell_type": "code",
   "execution_count": null,
   "metadata": {},
   "outputs": [],
   "source": [
    "# Общая таблица популярности платформ по регионам\n",
    "top5_platform_all = pd.concat([top5_platform_na, top5_platform_eu, top5_platform_jp], axis=1)\n",
    "top5_platform_all"
   ]
  },
  {
   "cell_type": "markdown",
   "metadata": {},
   "source": [
    "**Выводы:**\n",
    "1. Самые большие продажи - в Северной Америке. Второй по суммарным продажам - рынок Европы. Третий - Японии.\n",
    "2. Первые 4 позиции в рейтингах по Северной Америке и Европе занимают одни и те же платформы (но на разных местах в рейтинге): PS2, PS3, X360, Wii. Основной вклад в продажи игр на этих платформах дает Северная Америка. На 5 месте в Северной Америке платформа DS, в Европе - платформа PS.\n",
    "3. В Японии же наоборот, DS и PS занимают ведущие места в рейтинге. На третье место вышла PS2, популярная также на двух других рынках. А на 4 и 5 месте - платформы SNES и 3DS, которые не попали в топ-5 на североамериканском и европейском рынках. Основной вклад в продажи игр на платформе SNES дает Япония.\n",
    "4. Таким образом, европейские и североамериканские пользователи похожи по предпочтениям платформ. У японских пользователей свои предпочтения"
   ]
  },
  {
   "cell_type": "code",
   "execution_count": null,
   "metadata": {},
   "outputs": [],
   "source": [
    "# Самые популярные жанры в Северной Америке\n",
    "top5_genre_na = (df.groupby('genre')['na_sales'].sum().\n",
    "                  sort_values(ascending=False).head(5).reset_index(drop=False))\n",
    "top5_genre_na = top5_genre_na.merge(genre_sales,on='genre',how='left')\n",
    "top5_genre_na['na_in_total_sales,%'] = (round((top5_genre_na['na_sales'] \n",
    "                                                  / top5_genre_na['total_sales'])*100))\n",
    "top5_genre_na = top5_genre_na.drop('total_sales', axis=1)\n",
    "top5_genre_na"
   ]
  },
  {
   "cell_type": "code",
   "execution_count": null,
   "metadata": {},
   "outputs": [],
   "source": [
    "# Самые популярные жанры в Европе\n",
    "top5_genre_eu = (df.groupby('genre')['eu_sales'].sum().\n",
    "                  sort_values(ascending=False).head(5).reset_index(drop=False))\n",
    "top5_genre_eu = top5_genre_eu.merge(genre_sales,on='genre',how='left')\n",
    "top5_genre_eu['eu_in_total_sales,%'] = (round((top5_genre_eu['eu_sales'] \n",
    "                                                  / top5_genre_eu['total_sales'])*100))\n",
    "top5_genre_eu = top5_genre_eu.drop('total_sales', axis=1)\n",
    "top5_genre_eu"
   ]
  },
  {
   "cell_type": "code",
   "execution_count": null,
   "metadata": {},
   "outputs": [],
   "source": [
    "# Самые популярные жанры в Японии\n",
    "top5_genre_jp = (df.groupby('genre')['jp_sales'].sum().\n",
    "                  sort_values(ascending=False).head(5).reset_index(drop=False))\n",
    "top5_genre_jp = top5_genre_jp.merge(genre_sales,on='genre',how='left')\n",
    "top5_genre_jp['jp_in_total_sales,%'] = (round((top5_genre_jp['jp_sales'] \n",
    "                                                  / top5_genre_jp['total_sales'])*100))\n",
    "top5_genre_jp = top5_genre_jp.drop('total_sales', axis=1)\n",
    "top5_genre_jp"
   ]
  },
  {
   "cell_type": "code",
   "execution_count": null,
   "metadata": {},
   "outputs": [],
   "source": [
    "# Общая таблица популярности жанров по регионам\n",
    "top5_genre_all = pd.concat([top5_genre_na, top5_genre_eu, top5_genre_jp], axis=1)\n",
    "top5_genre_all"
   ]
  },
  {
   "cell_type": "markdown",
   "metadata": {},
   "source": [
    "**Выводы:**\n",
    "1. Основной вклад в продажи в топ-5 жанров дает Северная Америка. \n",
    "2. Жанры Action, Sports, Misc популярны во всех трех регионах.\n",
    "3. Рынки Северной Америки и Европы отличаются только 4 позицией: в Северной Америке это Platform, в Европе - Racing.\n",
    "4. Жанр Platform востребован в Северной Америке и Японии, жанр Racing - в Европе.\n",
    "5. В Японии рейтинг возглавляют ролевые игры, тогда как в Северной Америке и Европе этот жанр не вошел в топ-5."
   ]
  },
  {
   "cell_type": "markdown",
   "metadata": {},
   "source": [
    "<div class=\"alert alert-success\">\n",
    "<font size=\"5\"><b>Комментарий ревьюера</b></font>\n",
    " \n",
    "Из-за чего японский рынок игр так сильно отличается от других? \n",
    "\n",
    "</div>"
   ]
  },
  {
   "cell_type": "markdown",
   "metadata": {},
   "source": [
    "<div class=\"alert alert-success\">\n",
    "<font size=\"5\"><b>Мой ответ</b></font>\n",
    " \n",
    "Нет ответа. Могу только связать популярность в Японии ролевых игр с местным менталитетом. В Японии основной религией является синтоизм, объекты поклонения - многочисленные божества, духи умерших. Любой природный объект имеет свое божество. Многочисленные духи, божества - это многочисленные роли. Каким-то образом сюда же завязаны особые типы японских мультфильмов - анимэ, манга. Отсюда же любовь к ролевым играм. Вот как-то так, наверное. \n",
    "\n",
    "</div>"
   ]
  },
  {
   "cell_type": "markdown",
   "metadata": {},
   "source": [
    "#### Влияет ли рейтинг ESRB на продажи в отдельном регионе? ####\n",
    "\n",
    "Продажи без рейтинга обозначены NR - non rating"
   ]
  },
  {
   "cell_type": "code",
   "execution_count": null,
   "metadata": {},
   "outputs": [],
   "source": [
    "# Суммарные продажи в зависимости от рейтинга ESRB в Северной Америке\n",
    "df.loc[:,'rating'].fillna('NR', inplace=True)\n",
    "rating_na = (df.groupby('rating')['na_sales'].sum().\n",
    "                  sort_values(ascending=False).reset_index(drop=False))\n",
    "rating_na"
   ]
  },
  {
   "cell_type": "code",
   "execution_count": null,
   "metadata": {},
   "outputs": [],
   "source": [
    "rating_na.plot.bar(x='rating', y='na_sales')\n",
    "plt.show()"
   ]
  },
  {
   "cell_type": "code",
   "execution_count": null,
   "metadata": {},
   "outputs": [],
   "source": [
    "# Суммарные продажи в зависимости от рейтинга ESRB в Европе\n",
    "df.loc[:,'rating'].fillna('NR', inplace=True)\n",
    "rating_eu = (df.groupby('rating')['eu_sales'].sum().\n",
    "                  sort_values(ascending=False).reset_index(drop=False))\n",
    "rating_eu"
   ]
  },
  {
   "cell_type": "code",
   "execution_count": null,
   "metadata": {},
   "outputs": [],
   "source": [
    "rating_eu.plot.bar(x='rating', y='eu_sales')\n",
    "plt.show()"
   ]
  },
  {
   "cell_type": "code",
   "execution_count": null,
   "metadata": {},
   "outputs": [],
   "source": [
    "# Суммарные продажи в зависимости от рейтинга ESRB в Японии\n",
    "df.loc[:,'rating'].fillna('NR', inplace=True)\n",
    "rating_jp = (df.groupby('rating')['jp_sales'].sum().\n",
    "                  sort_values(ascending=False).reset_index(drop=False))\n",
    "rating_jp"
   ]
  },
  {
   "cell_type": "code",
   "execution_count": null,
   "metadata": {},
   "outputs": [],
   "source": [
    "rating_jp.plot.bar(x='rating', y='jp_sales')\n",
    "plt.show()"
   ]
  },
  {
   "cell_type": "code",
   "execution_count": null,
   "metadata": {},
   "outputs": [],
   "source": [
    "# Общая таблица зависимости продаж от рейтинга ESRB по регионам\n",
    "rating_all = pd.concat([rating_na, rating_eu, rating_jp], axis=1)\n",
    "rating_all"
   ]
  },
  {
   "cell_type": "markdown",
   "metadata": {},
   "source": [
    "<div class=\"alert alert-danger\">\n",
    "<font size=\"5\"><b>Комментарий ревьюера</b></font>\n",
    "\n",
    "Обрати внимание - ты не учитываешь игры без рейтинга. В результате огромная часть игр просто выпадает из анализа. Найди способ учесть их при группировке значений по рейтингу.\n",
    "    \n",
    "</div>"
   ]
  },
  {
   "cell_type": "markdown",
   "metadata": {},
   "source": [
    "<div class=\"alert alert-danger\">\n",
    "<font size=\"5\"><b>Мой ответ</b></font>\n",
    "\n",
    "Пересчитала таблицы с учетом игр без рейтинга (NR). \n",
    "    \n",
    "</div>"
   ]
  },
  {
   "cell_type": "markdown",
   "metadata": {},
   "source": [
    "**Вывод:**\n",
    "Во всех трех регионах популярны игры с рейтингами E, T, M, E10+, а также игры без рейтинга (NR) и малые продажи у игр с остальными рейтингами. Интересно, что в Японии со значительным отрывом лидируют игры без рейтинга."
   ]
  },
  {
   "cell_type": "markdown",
   "metadata": {},
   "source": [
    "<div class=\"alert alert-danger\">\n",
    "<font size=\"5\"><b>Комментарий ревьюера</b></font>\n",
    "\n",
    "Портрет типичного пользователя каждого из регионов получен. Стоит визуализировать все полученные таблицы. Крайне не хватает графиков в данном разделе работы. \n",
    "\n",
    "</div>"
   ]
  },
  {
   "cell_type": "markdown",
   "metadata": {},
   "source": [
    "<div class=\"alert alert-danger\">\n",
    "<font size=\"5\"><b>Мой ответ</b></font>\n",
    "\n",
    "Графики по всем таблицам добавила. \n",
    "\n",
    "</div>"
   ]
  },
  {
   "cell_type": "markdown",
   "metadata": {},
   "source": [
    "## Исследование статистических показателей  ##"
   ]
  },
  {
   "cell_type": "code",
   "execution_count": null,
   "metadata": {},
   "outputs": [],
   "source": [
    "# Среднее, дисперсия и стандартное отклонение для пользовательских рейтингов и рейтингов критиков\n",
    "#по разным жанрам\n",
    "genre_statistics = genre_sales\n",
    "for i in genre_sales.index:\n",
    "    genre_statistics.loc[i,'mean_critic'] = (round(df[df['genre'] == genre_sales.loc[i,'genre']]\n",
    "                                      ['critic_score'].mean(),1))\n",
    "    genre_statistics.loc[i,'var_critic'] = (round(df[df['genre'] == genre_sales.loc[i,'genre']]\n",
    "                                      ['critic_score'].var(ddof=1),1))\n",
    "    genre_statistics.loc[i,'std_critic'] = (round(df[df['genre'] == genre_sales.loc[i,'genre']]\n",
    "                                      ['critic_score'].std(),1))\n",
    "    genre_statistics.loc[i,'mean_user'] = (round(df[df['genre'] == genre_sales.loc[i,'genre']]\n",
    "                                      ['user_score'].mean(),1))\n",
    "    genre_statistics.loc[i,'var_user'] = (round(df[df['genre'] == genre_sales.loc[i,'genre']]\n",
    "                                      ['user_score'].var(ddof=1),1))\n",
    "    genre_statistics.loc[i,'std_user'] = (round(df[df['genre'] == genre_sales.loc[i,'genre']]\n",
    "                                      ['user_score'].std(),1))\n",
    "genre_statistics"
   ]
  },
  {
   "cell_type": "markdown",
   "metadata": {},
   "source": [
    "<div class=\"alert alert-success\">\n",
    "<font size=\"5\"><b>Комментарий ревьюера</b></font>\n",
    "\n",
    "Круто, что все данные собраны в единую таблицу. Так нам гораздо легче сравнивать жанры между собой. \n",
    "\n",
    "</div>"
   ]
  },
  {
   "cell_type": "markdown",
   "metadata": {},
   "source": [
    "### Жанр Action ###"
   ]
  },
  {
   "cell_type": "code",
   "execution_count": null,
   "metadata": {},
   "outputs": [],
   "source": [
    "df[df['genre'] == 'Action'].hist(column = ['critic_score','user_score'], figsize=(12, 6))\n",
    "plt.show()"
   ]
  },
  {
   "cell_type": "markdown",
   "metadata": {},
   "source": [
    "В пользовательском рейтинге максимальное количество оценок в диапазоне 7-8, присутствует скошенность влево. В рейтинге критиков более равномерное распределение, большинство оценок около 70."
   ]
  },
  {
   "cell_type": "markdown",
   "metadata": {},
   "source": [
    "### Жанр Sports ###"
   ]
  },
  {
   "cell_type": "code",
   "execution_count": null,
   "metadata": {},
   "outputs": [],
   "source": [
    "df[df['genre'] == 'Sports'].hist(column = ['critic_score','user_score'], figsize=(12, 6))\n",
    "plt.show()"
   ]
  },
  {
   "cell_type": "markdown",
   "metadata": {},
   "source": [
    "Распределение рейтингов и пользователей, и критиков имеет похожую форму. Максимальное количество пользователей поставили оценку около 8, максимальное количество критиков - около 80. В обоих случаях наблюдается скошенность влево."
   ]
  },
  {
   "cell_type": "markdown",
   "metadata": {},
   "source": [
    "### Жанр Shooter ###"
   ]
  },
  {
   "cell_type": "code",
   "execution_count": null,
   "metadata": {},
   "outputs": [],
   "source": [
    "df[df['genre'] == 'Shooter'].hist(column = ['critic_score','user_score'], figsize=(12, 6))\n",
    "plt.show()"
   ]
  },
  {
   "cell_type": "markdown",
   "metadata": {},
   "source": [
    "Максимальное количество критиков поставили оценку 70-80, максимальное количество пользователей - около 8. В обоих случаях наблюдается скошенность влево."
   ]
  },
  {
   "cell_type": "markdown",
   "metadata": {},
   "source": [
    "### Жанр Role-Playing ###"
   ]
  },
  {
   "cell_type": "code",
   "execution_count": null,
   "metadata": {},
   "outputs": [],
   "source": [
    "df[df['genre'] == 'Role-Playing'].hist(column = ['critic_score','user_score'], figsize=(12, 6))\n",
    "plt.show()"
   ]
  },
  {
   "cell_type": "markdown",
   "metadata": {},
   "source": [
    "Большинство критиков поставили оценку около 70, большинство пользователей в диапазоне 7-9. Распределение оценок критиков более равномерное. В оценках пользователей наблюдается пик в области 7-9, скошенность влево и выбросы в виде низких оценок."
   ]
  },
  {
   "cell_type": "markdown",
   "metadata": {},
   "source": [
    "### Жанр Platform ###"
   ]
  },
  {
   "cell_type": "code",
   "execution_count": null,
   "metadata": {},
   "outputs": [],
   "source": [
    "df[df['genre'] == 'Platform'].hist(column = ['critic_score','user_score'], figsize=(12, 6))\n",
    "plt.show()"
   ]
  },
  {
   "cell_type": "markdown",
   "metadata": {},
   "source": [
    "Распределение оценок критиков более равномерное, с максимальным количеством оценок около 70. Максимальное количество пользователей поставили оценки около 8, наблюдается сильная скошенность влево."
   ]
  },
  {
   "cell_type": "markdown",
   "metadata": {},
   "source": [
    "### Жанр Misc ###"
   ]
  },
  {
   "cell_type": "code",
   "execution_count": null,
   "metadata": {},
   "outputs": [],
   "source": [
    "df[df['genre'] == 'Misc'].hist(column = ['critic_score','user_score'], figsize=(12, 6))\n",
    "plt.show()"
   ]
  },
  {
   "cell_type": "markdown",
   "metadata": {},
   "source": [
    "Максимальное количество критиков поставили оценки в диапазоне 70-80, максимальное количество пользователей - около 8. Оба распределения похожи по виду и демонстрируют скошенность влево."
   ]
  },
  {
   "cell_type": "markdown",
   "metadata": {},
   "source": [
    "### Жанр Racing ###"
   ]
  },
  {
   "cell_type": "code",
   "execution_count": null,
   "metadata": {},
   "outputs": [],
   "source": [
    "df[df['genre'] == 'Racing'].hist(column = ['critic_score','user_score'], figsize=(12, 6))\n",
    "plt.show()"
   ]
  },
  {
   "cell_type": "markdown",
   "metadata": {},
   "source": [
    "Оценки критиков в этом жанре ниже, чем пользователей: 60-70 против 8. Оба графика демонстрируют скошенность влево."
   ]
  },
  {
   "cell_type": "markdown",
   "metadata": {},
   "source": [
    "### Жанр Fighting ###"
   ]
  },
  {
   "cell_type": "code",
   "execution_count": null,
   "metadata": {},
   "outputs": [],
   "source": [
    "df[df['genre'] == 'Fighting'].hist(column = ['critic_score','user_score'], figsize=(12, 6))\n",
    "plt.show()"
   ]
  },
  {
   "cell_type": "markdown",
   "metadata": {},
   "source": [
    "Оценки критиков в этом жанре ниже, чем пользователей: около 70 и около 8 соответственно. Оба графика демонстрируют скошенность влево."
   ]
  },
  {
   "cell_type": "markdown",
   "metadata": {},
   "source": [
    "### Жанр Simulation ###"
   ]
  },
  {
   "cell_type": "code",
   "execution_count": null,
   "metadata": {},
   "outputs": [],
   "source": [
    "df[df['genre'] == 'Simulation'].hist(column = ['critic_score','user_score'], figsize=(12, 6))\n",
    "plt.show()"
   ]
  },
  {
   "cell_type": "markdown",
   "metadata": {},
   "source": [
    "На обоих графиках выделяется интервал оценок в диапазоне около 60-85 и 6.7-8.8 соответственно. Оценок в этих интервалах существенно больше, чем более низких и более высоких. Наблюдается скошенность влево."
   ]
  },
  {
   "cell_type": "markdown",
   "metadata": {},
   "source": [
    "### Жанр Puzzle ###"
   ]
  },
  {
   "cell_type": "code",
   "execution_count": null,
   "metadata": {},
   "outputs": [],
   "source": [
    "df[df['genre'] == 'Puzzle'].hist(column = ['critic_score','user_score'], figsize=(12, 6))\n",
    "plt.show()"
   ]
  },
  {
   "cell_type": "markdown",
   "metadata": {},
   "source": [
    "Оценки критиков в этом жанре немного ниже, чем пользователей: 65-75 против 7-8.5. Оба графика демонстрируют скошенность влево."
   ]
  },
  {
   "cell_type": "markdown",
   "metadata": {},
   "source": [
    "### Жанр Adventure ###"
   ]
  },
  {
   "cell_type": "code",
   "execution_count": null,
   "metadata": {},
   "outputs": [],
   "source": [
    "df[df['genre'] == 'Adventure'].hist(column = ['critic_score','user_score'], figsize=(12, 6))\n",
    "plt.show()"
   ]
  },
  {
   "cell_type": "markdown",
   "metadata": {},
   "source": [
    "Оценки критиков в этом жанре ниже, чем пользователей: 60-70 против 8. Оба графика демонстрируют скошенность влево."
   ]
  },
  {
   "cell_type": "markdown",
   "metadata": {},
   "source": [
    "### Жанр Strategy ###"
   ]
  },
  {
   "cell_type": "code",
   "execution_count": null,
   "metadata": {},
   "outputs": [],
   "source": [
    "df[df['genre'] == 'Strategy'].hist(column = ['critic_score','user_score'], figsize=(12, 6))\n",
    "plt.show()"
   ]
  },
  {
   "cell_type": "markdown",
   "metadata": {},
   "source": [
    "Мнение критиков более неоднозначное: большинство оценок в диапазоне 65-82. Тогда как в пользовательском рейтинге наблюдается уверенный пик в области 8. Оба графика демонстрируют скошенность влево."
   ]
  },
  {
   "cell_type": "markdown",
   "metadata": {},
   "source": [
    "<div class=\"alert alert-success\">\n",
    "<font size=\"5\"><b>Комментарий ревьюера</b></font>\n",
    "\n",
    "Анализ проведен. Как думаешь, почему мы получаем скошенность графиков влево для большинства жанров?\n",
    "\n",
    "</div>"
   ]
  },
  {
   "cell_type": "markdown",
   "metadata": {},
   "source": [
    "<div class=\"alert alert-success\">\n",
    "<font size=\"5\"><b>Мой ответ</b></font>\n",
    "\n",
    "Скошенность влево = мало низких оценок. Очевидно, менеджеры магазина отбирали игры с высокими оценками, которые будут заведомо хорошо продаваться. Как было установлено, продажи все-таки зависят от оценок, особенно от оценок критиков.\n",
    "\n",
    "</div>"
   ]
  },
  {
   "cell_type": "markdown",
   "metadata": {},
   "source": [
    "## Проверка гипотез  ##"
   ]
  },
  {
   "cell_type": "markdown",
   "metadata": {},
   "source": [
    "**Тестируемая гипотеза: средние пользовательские рейтинги платформ Xbox One и PC одинаковые.**\n",
    "\n",
    "Нулевая гипотеза: средние пользовательские рейтинги платформ Xbox One и PC одинаковы.\n",
    "\n",
    "Альтернативная гипотеза: средние пользовательские рейтинги платформ Xbox One и PC не одинаковы.\n",
    "\n",
    "alpha = 0.05 - общепринятое пороговое значение, равное 5%."
   ]
  },
  {
   "cell_type": "code",
   "execution_count": null,
   "metadata": {},
   "outputs": [],
   "source": [
    "pc = (df[(df['year_of_release'] >= 2008.0) & (df['year_of_release'] <= 2015.0) \n",
    "         & (df['platform'] == 'PC')]['user_score'].dropna())\n",
    "xone = df[df['platform'] == 'XOne']['user_score'].dropna()\n",
    "st.ttest_ind(pc, xone).pvalue"
   ]
  },
  {
   "cell_type": "markdown",
   "metadata": {},
   "source": [
    "<div class=\"alert alert-danger\">\n",
    "<font size=\"5\"><b>Комментарий ревьюера</b></font>\n",
    "\n",
    "Анализировать стоит данные актуального периода. Исправь его выбор выше и выделяй выборки по платформам и жанрам на его основании. \n",
    "\n",
    "</div>"
   ]
  },
  {
   "cell_type": "markdown",
   "metadata": {},
   "source": [
    "<div class=\"alert alert-danger\">\n",
    "<font size=\"5\"><b>Мой ответ</b></font>\n",
    "\n",
    "Добавила ограничение по актуальному периоду. \n",
    "\n",
    "</div>"
   ]
  },
  {
   "cell_type": "markdown",
   "metadata": {},
   "source": [
    "Полученное значение p-value > alpha. Мы не можем отвергнуть нулевую гипотезу. С вероятностью с вероятностью в 6.7% такое или большее различие между средними пользовательскими рейтингами платформ Xbox One и PC можно получить случайно. "
   ]
  },
  {
   "cell_type": "markdown",
   "metadata": {},
   "source": [
    "<div class=\"alert alert-danger\">\n",
    "<font size=\"5\"><b>Комментарий ревьюера</b></font>\n",
    "\n",
    "При получении pvalue меньше alpha мы отклоняем нулевую гипотезу в пользу альтернативной. Исправь вывод из проведенного теста. \n",
    "</div>"
   ]
  },
  {
   "cell_type": "markdown",
   "metadata": {},
   "source": [
    "<div class=\"alert alert-danger\">\n",
    "<font size=\"5\"><b>Мой ответ</b></font>\n",
    "\n",
    "Исправила вывод из проведенного теста. См. ячейку выше. \n",
    "</div>"
   ]
  },
  {
   "cell_type": "markdown",
   "metadata": {},
   "source": [
    "**Тестируемая гипотеза: средние пользовательские рейтинги жанров Action (англ. «действие») и Sports (англ. «виды спорта») разные.**\n",
    "\n",
    "Нулевая гипотеза: средние пользовательские рейтинги жанров Action и Sports одинаковы.\n",
    "\n",
    "Альтернативная гипотеза: средние пользовательские рейтинги жанров Action и Sports не одинаковы.\n",
    "\n",
    "alpha = 0.05 - общепринятое пороговое значение, равное 5%."
   ]
  },
  {
   "cell_type": "code",
   "execution_count": null,
   "metadata": {},
   "outputs": [],
   "source": [
    "action = (df[(df['year_of_release'] >= 2008.0) & (df['year_of_release'] <= 2015.0) \n",
    "             & (df['genre'] == 'Action')]['user_score'].dropna())\n",
    "sports = (df[(df['year_of_release'] >= 2008.0) & (df['year_of_release'] <= 2015.0) \n",
    "             & (df['genre'] == 'Sports')]['user_score'].dropna())\n",
    "st.ttest_ind(action, sports).pvalue"
   ]
  },
  {
   "cell_type": "markdown",
   "metadata": {},
   "source": [
    "Полученное значение p-value < alpha. Отклоняем нулевую и принимаем альтернативную гипотезу: средние пользовательские рейтинги жанров Action и Sports не одинаковы."
   ]
  },
  {
   "cell_type": "markdown",
   "metadata": {},
   "source": [
    "<div class=\"alert alert-danger\">\n",
    "<font size=\"5\"><b>Комментарий ревьюера</b></font>\n",
    "\n",
    "А тут наоборот, pvalue больше критического уровня значимости. Отклонить нулевую гипотезу мы не можем. \n",
    "\n",
    "</div>"
   ]
  },
  {
   "cell_type": "markdown",
   "metadata": {},
   "source": [
    "<div class=\"alert alert-danger\">\n",
    "<font size=\"5\"><b>Мой ответ</b></font>\n",
    "\n",
    "Пересчитала результат для актуального периода. \n",
    "\n",
    "</div>"
   ]
  },
  {
   "cell_type": "markdown",
   "metadata": {},
   "source": [
    "## Выводы  ##"
   ]
  },
  {
   "cell_type": "markdown",
   "metadata": {},
   "source": [
    "Целью работы было выявить определяющие успешность игры закономерности. В результате проведенного анализа были получены следующие выводы.\n",
    "1. Среднее \"время жизни\" популярной платформы на рынке - 11 лет, стандартной платформы - 8 лет.\n",
    "2. Оценки критиков больше влияют на суммарные продажи, чем оценки пользователей. При этом у набирающих популярность платформ прослеживается более выраженная корреляция продаж и оценок пользователей и критиков, чем у теряющих популярность платформ. \n",
    "3. Популярные жанры: Action, Sports, Shooter. \n",
    "4. Жанры-аутсайдеры: Puzzle, Adventure, Strategy. Разница продаж между самым популярным и самым маловостребованным жанром составляет 10 раз.\n",
    "5. Самые большие суммарные продажи в Северной Америке. На втором месте Европа. На третьем - Япония.\n",
    "6. Популярные платформы. Первые 4 позиции в рейтингах по Северной Америке и Европе занимают одни и те же платформы (но на разных местах в рейтинге): PS2, PS3, X360, Wii. На 5 месте в Северной Америке платформа DS, в Европе - платформа PS. В Японии ведущие места в рейтинге продаж занимают платформы DS и PS. На третьем месте - PS2, популярная также в Европе и Северной Америке. На 4 и 5 местах - платформы SNES и 3DS, которые не попали в топ-5 на североамериканском и европейском рынках. Основной вклад в продажи игр на платформе SNES дает Япония. Таким образом, популярные платформы практически совпадают у европейских и североамериканских пользователей, и заметно отличаются у пользователей из Японии.\n",
    "7. Популярность жанров по регионам. Жанры Action, Sports, Misc популярны во всех трех регионах. Рынки Северной Америки и Европы отличаются только 4 позицией: в Северной Америке это Platform, в Европе - Racing. Жанр Platform востребован в Северной Америке и Японии, жанр Racing - в Европе. В Японии рейтинг возглавляют ролевые игры, тогда как в Северной Америке и Европе этот жанр не вошел в топ-5.\n",
    "8. Популярность игр по рейтингу ESRB. Во всех трех регионах популярны игры с рейтингами E, T, M, E10+, и малые продажи у игр с остальными рейтингами.\n",
    "9. Самые распространенные оценки критиков в жанрах Role-Playing, Platform, Racing, Fighting, Adventure ниже, чем самые распространенные оценки пользователей. \n",
    "10. Сравнивать средние рейтинги по различным группам (например, жанрам, платформам) можно с помощью методики, протестированной в разделе Проверка гипотез. Так, например, для уровня значимости 5% была принята нулевая гипотеза, что средние пользовательские рейтинги платформ Xbox One и PC одинаковы и альтернативная гипотеза, что различие средних пользовательских рейтингов между жанрами Action и Sports можно получить случайно. "
   ]
  },
  {
   "cell_type": "markdown",
   "metadata": {},
   "source": [
    "<div class=\"alert alert-success\">\n",
    "<font size=\"5\"><b>Комментарий ревьюера</b></font>\n",
    "\n",
    "Выводы описаны грамотно. Приведены ответы на главные вопросы проекта. В выводах можно приводить полученные ранее значения, правильно. Здорово, что по каждому пункту работы приведен вывод. После исправления помарок в работе исправь при необходимости и выводы. \n",
    "\n",
    "</div>"
   ]
  },
  {
   "cell_type": "markdown",
   "metadata": {},
   "source": [
    "<div class=\"alert alert-warning\">\n",
    "<font size=\"5\"><b>Комментарий ревьюера</b></font>\n",
    "\n",
    "Если тебе нравится тема визуализации, то можешь изучить другие методы библиотеки seaborn. Она позволяет строить довольно презентабельные графики.\n",
    "\n",
    "Ты проделала большую работу, молодец! Критических замечаний немного. Однако с ними важно поработать и их исправить. Также есть достаточное число желтых комментариев. Думаю, исправить их тебе не составит труда. Жду твою работу :)\n",
    "\n",
    "</div>"
   ]
  },
  {
   "cell_type": "markdown",
   "metadata": {},
   "source": [
    "<div class=\"alert alert-warning\">\n",
    "<font size=\"5\"><b>Мой ответ</b></font>\n",
    "\n",
    "Спасибо за замечания по работе и рекомендацию seaborn. Еще не добралась до этой библиотеки. Изучу обязательно. Визуализация нужна по работе.\n",
    "    \n",
    "</div>"
   ]
  }
 ],
 "metadata": {
  "kernelspec": {
   "display_name": "Python 3",
   "language": "python",
   "name": "python3"
  },
  "language_info": {
   "codemirror_mode": {
    "name": "ipython",
    "version": 3
   },
   "file_extension": ".py",
   "mimetype": "text/x-python",
   "name": "python",
   "nbconvert_exporter": "python",
   "pygments_lexer": "ipython3",
   "version": "3.7.6"
  },
  "toc": {
   "base_numbering": 1,
   "nav_menu": {},
   "number_sections": true,
   "sideBar": true,
   "skip_h1_title": true,
   "title_cell": "Table of Contents",
   "title_sidebar": "Contents",
   "toc_cell": false,
   "toc_position": {},
   "toc_section_display": true,
   "toc_window_display": false
  }
 },
 "nbformat": 4,
 "nbformat_minor": 4
}
