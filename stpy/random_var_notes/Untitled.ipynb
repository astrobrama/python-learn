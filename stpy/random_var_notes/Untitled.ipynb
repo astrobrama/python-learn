{
 "cells": [
  {
   "cell_type": "code",
   "execution_count": 1,
   "metadata": {},
   "outputs": [],
   "source": [
    "import numpy as np\n",
    "import pandas as pd"
   ]
  },
  {
   "cell_type": "code",
   "execution_count": 6,
   "metadata": {},
   "outputs": [
    {
     "data": {
      "text/html": [
       "<div>\n",
       "<style scoped>\n",
       "    .dataframe tbody tr th:only-of-type {\n",
       "        vertical-align: middle;\n",
       "    }\n",
       "\n",
       "    .dataframe tbody tr th {\n",
       "        vertical-align: top;\n",
       "    }\n",
       "\n",
       "    .dataframe thead th {\n",
       "        text-align: right;\n",
       "    }\n",
       "</style>\n",
       "<table border=\"1\" class=\"dataframe\">\n",
       "  <thead>\n",
       "    <tr style=\"text-align: right;\">\n",
       "      <th></th>\n",
       "      <th>win_num</th>\n",
       "      <th>win_sum</th>\n",
       "    </tr>\n",
       "  </thead>\n",
       "  <tbody>\n",
       "    <tr>\n",
       "      <th>0</th>\n",
       "      <td>777</td>\n",
       "      <td>200</td>\n",
       "    </tr>\n",
       "    <tr>\n",
       "      <th>1</th>\n",
       "      <td>999</td>\n",
       "      <td>100</td>\n",
       "    </tr>\n",
       "    <tr>\n",
       "      <th>2</th>\n",
       "      <td>555</td>\n",
       "      <td>50</td>\n",
       "    </tr>\n",
       "    <tr>\n",
       "      <th>3</th>\n",
       "      <td>333</td>\n",
       "      <td>15</td>\n",
       "    </tr>\n",
       "    <tr>\n",
       "      <th>4</th>\n",
       "      <td>111</td>\n",
       "      <td>10</td>\n",
       "    </tr>\n",
       "  </tbody>\n",
       "</table>\n",
       "</div>"
      ],
      "text/plain": [
       "   win_num  win_sum\n",
       "0      777      200\n",
       "1      999      100\n",
       "2      555       50\n",
       "3      333       15\n",
       "4      111       10"
      ]
     },
     "execution_count": 6,
     "metadata": {},
     "output_type": "execute_result"
    }
   ],
   "source": [
    "d_3 = {'win_num': [777, 999, 555, 333, 111], 'win_sum': [200, 100, 50, 15, 10]}\n",
    "win_3 = pd.DataFrame(data=d_3)\n",
    "win_3"
   ]
  },
  {
   "cell_type": "code",
   "execution_count": 27,
   "metadata": {},
   "outputs": [
    {
     "name": "stdout",
     "output_type": "stream",
     "text": [
      "50 3395 10000\n"
     ]
    }
   ],
   "source": [
    "trials = 10000    # Количество попыток\n",
    "successes = 0    # Количество успехов\n",
    "win = 0\n",
    "\n",
    "for i in range(trials):\n",
    "    random_score = np.random.randint(0, 1000) # Случайное количество очков от 000 до 999\n",
    "    if random_score in win_3['win_num'].tolist():\n",
    "        successes += 1\n",
    "        win += win_3[win_3['win_num'] == random_score]['win_sum'].tolist()[0]\n",
    "        #print(win_3[win_3['win_num'] == random_score]['win_sum'].tolist(), random_score)\n",
    "        \n",
    "    \n",
    "        \n",
    "#p_monte_carlo = successes / trials    # Вероятность из моделирования\n",
    "#p = 2 / 6                             # Теоретическая вероятность\n",
    "\n",
    "print(successes, win, trials)"
   ]
  },
  {
   "cell_type": "code",
   "execution_count": null,
   "metadata": {},
   "outputs": [],
   "source": []
  }
 ],
 "metadata": {
  "kernelspec": {
   "display_name": "Python 3",
   "language": "python",
   "name": "python3"
  },
  "language_info": {
   "codemirror_mode": {
    "name": "ipython",
    "version": 3
   },
   "file_extension": ".py",
   "mimetype": "text/x-python",
   "name": "python",
   "nbconvert_exporter": "python",
   "pygments_lexer": "ipython3",
   "version": "3.7.6"
  }
 },
 "nbformat": 4,
 "nbformat_minor": 4
}
