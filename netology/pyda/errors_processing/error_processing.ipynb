{
 "cells": [
  {
   "cell_type": "markdown",
   "metadata": {},
   "source": [
    "# Домашнее задание к лекции «Исключения и обработка ошибок»"
   ]
  },
  {
   "cell_type": "markdown",
   "metadata": {},
   "source": [
    "## Задание 1\n",
    "\n",
    "Печатные газеты использовали свой формат дат для каждого выпуска. Для каждой газеты из списка напишите формат указанной даты для перевода в объект datetime:\n",
    "* The Moscow Times - Wednesday, October 2, 2002\n",
    "* The Guardian - Friday, 11.10.13\n",
    "* Daily News - Thursday, 18 August 1977"
   ]
  },
  {
   "cell_type": "code",
   "execution_count": 1,
   "metadata": {},
   "outputs": [
    {
     "name": "stdout",
     "output_type": "stream",
     "text": [
      "The Moscow Times:  2002-10-02\n",
      "The Guardian:  2011-10-13\n",
      "Daily News:  1977-08-18\n"
     ]
    }
   ],
   "source": [
    "from datetime import datetime\n",
    "\n",
    "print(\"The Moscow Times: \", datetime.strptime('Wednesday, October 2, 2002', '%A, %B %d, %Y').date())\n",
    "print(\"The Guardian: \", datetime.strptime('Friday, 11.10.13', '%A, %y.%m.%d').date())\n",
    "print(\"Daily News: \", datetime.strptime('Thursday, 18 August 1977', '%A, %d %B %Y').date())"
   ]
  },
  {
   "cell_type": "markdown",
   "metadata": {},
   "source": [
    "## Задание 2\n",
    "\n",
    "Дан поток дат в формате YYYY-MM-DD, в которых встречаются некорректные значения:\n",
    "stream = [‘2018-04-02’, ‘2018-02-29’, ‘2018-19-02’]\n",
    "\n",
    "Напишите функцию, которая проверяет эти даты на корректность. Т. е. для каждой даты возвращает True (дата корректна) или False (некорректная дата)."
   ]
  },
  {
   "cell_type": "code",
   "execution_count": 2,
   "metadata": {},
   "outputs": [
    {
     "data": {
      "text/plain": [
       "['True', 'False', 'False']"
      ]
     },
     "execution_count": 2,
     "metadata": {},
     "output_type": "execute_result"
    }
   ],
   "source": [
    "from datetime import datetime\n",
    "\n",
    "stream = ['2018-04-02', '2018-02-29', '2018-19-02']\n",
    "\n",
    "def is_date_correct(stream):\n",
    "   \n",
    "    true_date = []\n",
    "\n",
    "    for date_item in stream:\n",
    "        try:\n",
    "            datetime.strptime(date_item, '%Y-%m-%d')\n",
    "            true_date.append('True')\n",
    "        except:\n",
    "            true_date.append('False')\n",
    "    \n",
    "    return true_date\n",
    "\n",
    "is_date_correct(stream)"
   ]
  },
  {
   "cell_type": "markdown",
   "metadata": {},
   "source": [
    "## Задание 3\n",
    "\n",
    "Напишите функцию date_range, которая возвращает список дат за период от start_date до end_date. Даты должны вводиться в формате YYYY-MM-DD. В случае неверного формата или при start_date > end_date должен возвращаться пустой список."
   ]
  },
  {
   "cell_type": "code",
   "execution_count": 3,
   "metadata": {},
   "outputs": [
    {
     "name": "stdout",
     "output_type": "stream",
     "text": [
      "2018-01-01\n",
      "2018-01-02\n",
      "2018-01-03\n",
      "2018-01-04\n",
      "2018-01-05\n",
      "2018-01-06\n",
      "2018-01-07\n",
      "2018-01-08\n"
     ]
    }
   ],
   "source": [
    "from datetime import datetime\n",
    "from datetime import timedelta\n",
    "\n",
    "start_date = '2018-01-01'\n",
    "end_date = '2018-01-08'\n",
    "\n",
    "def date_range(start_date, end_date):\n",
    "    \n",
    "    zero_range = []\n",
    "    \n",
    "    try:\n",
    "        datetime.strptime(start_date, '%Y-%m-%d')\n",
    "        datetime.strptime(end_date, '%Y-%m-%d')\n",
    "    except:\n",
    "        return print(zero_range)\n",
    "    \n",
    "    if datetime.strptime(start_date, '%Y-%m-%d') > datetime.strptime(end_date, '%Y-%m-%d'):\n",
    "        return print(zero_range)\n",
    "    else:\n",
    "        current_dt = datetime.strptime(start_date, '%Y-%m-%d')\n",
    "\n",
    "        while current_dt <= datetime.strptime(end_date, '%Y-%m-%d'):\n",
    "            print(current_dt.date())\n",
    "    \n",
    "            current_dt += timedelta(days=1)\n",
    "    return\n",
    "\n",
    "date_range(start_date, end_date)"
   ]
  }
 ],
 "metadata": {
  "kernelspec": {
   "display_name": "Python 3",
   "language": "python",
   "name": "python3"
  },
  "language_info": {
   "codemirror_mode": {
    "name": "ipython",
    "version": 3
   },
   "file_extension": ".py",
   "mimetype": "text/x-python",
   "name": "python",
   "nbconvert_exporter": "python",
   "pygments_lexer": "ipython3",
   "version": "3.7.6"
  }
 },
 "nbformat": 4,
 "nbformat_minor": 4
}
