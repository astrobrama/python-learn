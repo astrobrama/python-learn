{
 "cells": [
  {
   "cell_type": "code",
   "execution_count": 1,
   "id": "8cbc1b74",
   "metadata": {},
   "outputs": [],
   "source": [
    "documents = [\n",
    " {'type': 'passport', 'number': '2207 876234', 'name': 'Василий Гупкин'},\n",
    " {'type': 'invoice', 'number': '11-2', 'name': 'Геннадий Покемонов'},\n",
    " {'type': 'insurance', 'number': '10006', 'name': 'Аристарх Павлов'}\n",
    "]\n",
    "\n",
    "directories = {\n",
    " '1': ['2207 876234', '11-2'],\n",
    " '2': ['10006'],\n",
    " '3': []\n",
    "}"
   ]
  },
  {
   "cell_type": "code",
   "execution_count": null,
   "id": "022d0866",
   "metadata": {},
   "outputs": [
    {
     "name": "stdout",
     "output_type": "stream",
     "text": [
      "ВВЕДИТЕ КОМАНДУ: i\n",
      "№: 2207 876234, тип: passport, владелец: Василий Гупкин, полка хранения: 1\n",
      "№: 11-2, тип: invoice, владелец: Геннадий Покемонов, полка хранения: 1\n",
      "№: 10006, тип: insurance, владелец: Аристарх Павлов, полка хранения: 2\n"
     ]
    }
   ],
   "source": [
    "def info(documents, directories):\n",
    "    while True:\n",
    "        command = input('ВВЕДИТЕ КОМАНДУ: ')\n",
    "        if command == 'i':\n",
    "            for item in documents:\n",
    "                for kay in directories.items():\n",
    "                    # item['number'] == value\n",
    "                    if item['number'] in kay[1]:\n",
    "                        print(f\"№: {item['number']}, тип: {item['type']}, владелец: {item['name']}, полка хранения: {kay[0]}\")\n",
    "        elif command == 'q':\n",
    "            print('программа завершена')\n",
    "            break\n",
    "        else:\n",
    "            print('неверная команда')\n",
    "info(documents, directories)"
   ]
  },
  {
   "cell_type": "code",
   "execution_count": 3,
   "id": "45f03eba",
   "metadata": {},
   "outputs": [
    {
     "name": "stdout",
     "output_type": "stream",
     "text": [
      "Введите команду: l\n",
      "№:  2207 876234 , тип:  passport , владелец:  Василий Гупкин , полка хранения:  1\n",
      "№:  11-2 , тип:  invoice , владелец:  Геннадий Покемонов , полка хранения:  1\n",
      "№:  10006 , тип:  insurance , владелец:  Аристарх Павлов , полка хранения:  2\n"
     ]
    }
   ],
   "source": [
    "def full_info():\n",
    "    for item in documents:\n",
    "        d_type, d_number, d_name = item.values()\n",
    "        for el in directories.items():\n",
    "            shelf = el[0]\n",
    "            doc_number = el[1]\n",
    "            if d_number in doc_number:\n",
    "                print('№: ', d_number, ', тип: ', d_type, ', владелец: ', d_name, ', полка хранения: ', shelf)    \n",
    "    return \n",
    "\n",
    "todo = input('Введите команду: ')\n",
    "\n",
    "if todo == 'l':\n",
    "    full_info()"
   ]
  },
  {
   "cell_type": "code",
   "execution_count": null,
   "id": "7282a754",
   "metadata": {},
   "outputs": [],
   "source": []
  }
 ],
 "metadata": {
  "kernelspec": {
   "display_name": "Python 3",
   "language": "python",
   "name": "python3"
  },
  "language_info": {
   "codemirror_mode": {
    "name": "ipython",
    "version": 3
   },
   "file_extension": ".py",
   "mimetype": "text/x-python",
   "name": "python",
   "nbconvert_exporter": "python",
   "pygments_lexer": "ipython3",
   "version": "3.8.8"
  }
 },
 "nbformat": 4,
 "nbformat_minor": 5
}
