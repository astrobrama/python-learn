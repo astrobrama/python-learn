{
 "cells": [
  {
   "cell_type": "markdown",
   "metadata": {},
   "source": [
    "# Домашнее задание к лекции \"Функции\"\n",
    "Вам нужно помочь секретарю автоматизировать работу. Для этого нужно написать программу, которая будет на основе хранимых данных исполнять пользовательские команды."
   ]
  },
  {
   "cell_type": "code",
   "execution_count": 1,
   "metadata": {},
   "outputs": [],
   "source": [
    "documents = [\n",
    " {'type': 'passport', 'number': '2207 876234', 'name': 'Василий Гупкин'},\n",
    " {'type': 'invoice', 'number': '11-2', 'name': 'Геннадий Покемонов'},\n",
    " {'type': 'insurance', 'number': '10006', 'name': 'Аристарх Павлов'}\n",
    "]\n",
    "\n",
    "directories = {\n",
    " '1': ['2207 876234', '11-2'],\n",
    " '2': ['10006'],\n",
    " '3': []\n",
    "}"
   ]
  },
  {
   "cell_type": "code",
   "execution_count": null,
   "metadata": {},
   "outputs": [
    {
     "name": "stdout",
     "output_type": "stream",
     "text": [
      "ВВЕДИТЕ КОМАНДУ: l\n",
      "неверная команда\n"
     ]
    }
   ],
   "source": [
    "def info(documents, directories):\n",
    "    while True:\n",
    "        command = input('ВВЕДИТЕ КОМАНДУ: ')\n",
    "        if command == 'i':\n",
    "            for item in documents:\n",
    "                for kay in directories.keys():\n",
    "                    # item['number'] == value\n",
    "                    print(f\"№: {item['number']}, тип: {item['type']}, владелец: {item['name']}, полка хранения: {kay}\")\n",
    "        elif command == 'q':\n",
    "            print('программа завершена')\n",
    "            break\n",
    "        else:\n",
    "            print('неверная команда')\n",
    "info(documents, directories)"
   ]
  },
  {
   "cell_type": "markdown",
   "metadata": {},
   "source": [
    "## Задание 1"
   ]
  },
  {
   "cell_type": "markdown",
   "metadata": {},
   "source": [
    "### Пункт 1. Пользователь по команде \"p\" может узнать владельца документа по его номеру"
   ]
  },
  {
   "cell_type": "code",
   "execution_count": 38,
   "metadata": {},
   "outputs": [
    {
     "name": "stdout",
     "output_type": "stream",
     "text": [
      "Введите команду: p\n",
      "Введите номер документа: 12345\n",
      "Документ не найден в базе\n"
     ]
    }
   ],
   "source": [
    "def name_by_docnumber():\n",
    "    doc_number = input('Введите номер документа: ')\n",
    "    \n",
    "    for item in documents:\n",
    "        d_type, d_number, d_name = item.values()\n",
    "        if d_number == doc_number:\n",
    "            print('Владелец документа: ', d_name)\n",
    "            return\n",
    "    return print('Документ не найден в базе')\n",
    "\n",
    "todo = input('Введите команду: ')\n",
    "\n",
    "if todo == 'p':\n",
    "    name_by_docnumber()"
   ]
  },
  {
   "cell_type": "markdown",
   "metadata": {},
   "source": [
    "### Пункт 2. Пользователь по команде \"s\" может по номеру документа узнать на какой полке он хранится"
   ]
  },
  {
   "cell_type": "code",
   "execution_count": 37,
   "metadata": {},
   "outputs": [
    {
     "name": "stdout",
     "output_type": "stream",
     "text": [
      "Введите команду: s\n",
      "Введите номер документа: 12345\n",
      "Документ не найден в базе\n"
     ]
    }
   ],
   "source": [
    "def shelf_by_docnumber():\n",
    "    doc_number = input('Введите номер документа: ')\n",
    "    for item in directories.items():\n",
    "        shelf = item[0]\n",
    "        d_number = item[1]\n",
    "        if doc_number in d_number:\n",
    "            print('Документ хранится на полке: ', shelf)\n",
    "            return\n",
    "    return print('Документ не найден в базе')    \n",
    "\n",
    "todo = input('Введите команду: ')\n",
    "\n",
    "if todo == 's':\n",
    "    shelf_by_docnumber()    "
   ]
  },
  {
   "cell_type": "markdown",
   "metadata": {},
   "source": [
    "### Пункт 3. Пользователь по команде \"l\" может увидеть полную информацию по всем документам"
   ]
  },
  {
   "cell_type": "code",
   "execution_count": 41,
   "metadata": {},
   "outputs": [
    {
     "name": "stdout",
     "output_type": "stream",
     "text": [
      "Введите команду: l\n",
      "№:  2207 876234 , тип:  passport , владелец:  Василий Гупкин , полка хранения:  1\n",
      "№:  11-2 , тип:  invoice , владелец:  Геннадий Покемонов , полка хранения:  1\n",
      "№:  10006 , тип:  insurance , владелец:  Аристарх Павлов , полка хранения:  2\n"
     ]
    }
   ],
   "source": [
    "def full_info():\n",
    "    for item in documents:\n",
    "        d_type, d_number, d_name = item.values()\n",
    "        for el in directories.items():\n",
    "            shelf = el[0]\n",
    "            doc_number = el[1]\n",
    "            if d_number in doc_number:\n",
    "                print('№: ', d_number, ', тип: ', d_type, ', владелец: ', d_name, ', полка хранения: ', shelf)    \n",
    "    return \n",
    "\n",
    "todo = input('Введите команду: ')\n",
    "\n",
    "if todo == 'l':\n",
    "    full_info()"
   ]
  },
  {
   "cell_type": "markdown",
   "metadata": {},
   "source": [
    "### Пункт 4. Пользователь по команде \"ads\" может добавить новую полку"
   ]
  },
  {
   "cell_type": "code",
   "execution_count": 58,
   "metadata": {},
   "outputs": [
    {
     "name": "stdout",
     "output_type": "stream",
     "text": [
      "Введите команду: ads\n",
      "Введите номер полки: 10\n",
      "Полка добавлена. Текущий перечень полок: 1, 2, 3, 10\n"
     ]
    }
   ],
   "source": [
    "def add_shelf():\n",
    "    shelf = input('Введите номер полки: ')\n",
    "    if shelf in directories:\n",
    "        print('Такая полка уже существует. Текущий перечень полок: ' + ', '.join(directories.keys()))\n",
    "    else:\n",
    "        directories[shelf] = []\n",
    "        print('Полка добавлена. Текущий перечень полок: ' + ', '.join(directories.keys()))\n",
    "\n",
    "todo = input('Введите команду: ')\n",
    "\n",
    "if todo == 'ads':\n",
    "    add_shelf()"
   ]
  },
  {
   "cell_type": "markdown",
   "metadata": {},
   "source": [
    "### Пункт 5. Пользователь по команде \"ds\" может удалить существующую полку из данных (только если она пустая)"
   ]
  },
  {
   "cell_type": "code",
   "execution_count": 60,
   "metadata": {},
   "outputs": [
    {
     "name": "stdout",
     "output_type": "stream",
     "text": [
      "Введите команду: ds\n",
      "Введите номер полки: 10\n",
      "Такой полки не существует. Текущий перечень полок:1, 2, 3\n"
     ]
    }
   ],
   "source": [
    "def rem_shelf():\n",
    "    shelf = input('Введите номер полки: ')\n",
    "    \n",
    "    if shelf in directories:\n",
    "        if len(directories[shelf]) > 0:\n",
    "            print('На полке есть документа, удалите их перед удалением полки. Текущий перечень полок: ' + ', '.join(directories.keys()))\n",
    "            return\n",
    "        del directories[shelf]\n",
    "        print('Полка удалена. Текущий перечень полок: ' + ', '.join(directories.keys()))\n",
    "        return\n",
    "    print('Такой полки не существует. Текущий перечень полок: ' + ', '.join(directories.keys()))\n",
    "    return\n",
    "    \n",
    "todo = input('Введите команду: ')\n",
    "\n",
    "if todo == 'ds':\n",
    "    rem_shelf()"
   ]
  },
  {
   "cell_type": "markdown",
   "metadata": {},
   "source": [
    "## Общий скрипт"
   ]
  },
  {
   "cell_type": "code",
   "execution_count": 62,
   "metadata": {},
   "outputs": [
    {
     "name": "stdout",
     "output_type": "stream",
     "text": [
      "Введите команду: p\n",
      "Введите номер документа: 10006\n",
      "Владелец документа:  Аристарх Павлов\n",
      "Введите команду: p\n",
      "Введите номер документа: 12345\n",
      "Документ не найден в базе\n",
      "Введите команду: s\n",
      "Введите номер документа: 10006\n",
      "Документ хранится на полке:  2\n",
      "Введите команду: l\n",
      "№:  2207 876234 , тип:  passport , владелец:  Василий Гупкин , полка хранения:  1\n",
      "№:  11-2 , тип:  invoice , владелец:  Геннадий Покемонов , полка хранения:  1\n",
      "№:  10006 , тип:  insurance , владелец:  Аристарх Павлов , полка хранения:  2\n",
      "Введите команду: ads\n",
      "Введите номер полки: 10\n",
      "Полка добавлена. Текущий перечень полок: 1, 2, 3, 10\n",
      "Введите команду: ads\n",
      "Введите номер полки: 10\n",
      "Такая полка уже существует. Текущий перечень полок: 1, 2, 3, 10\n",
      "Введите команду: ds\n",
      "Введите номер полки: 12\n",
      "Такой полки не существует. Текущий перечень полок: 1, 2, 3, 10\n",
      "Введите команду: ds\n",
      "Введите номер полки: 10\n",
      "Полка удалена. Текущий перечень полок: 1, 2, 3\n",
      "Введите команду: q\n"
     ]
    }
   ],
   "source": [
    "documents = [\n",
    " {'type': 'passport', 'number': '2207 876234', 'name': 'Василий Гупкин'},\n",
    " {'type': 'invoice', 'number': '11-2', 'name': 'Геннадий Покемонов'},\n",
    " {'type': 'insurance', 'number': '10006', 'name': 'Аристарх Павлов'}\n",
    "]\n",
    "\n",
    "directories = {\n",
    " '1': ['2207 876234', '11-2'],\n",
    " '2': ['10006'],\n",
    " '3': []\n",
    "}\n",
    "\n",
    "def name_by_docnumber():\n",
    "    doc_number = input('Введите номер документа: ')\n",
    "    \n",
    "    for item in documents:\n",
    "        d_type, d_number, d_name = item.values()\n",
    "        if d_number == doc_number:\n",
    "            print('Владелец документа: ', d_name)\n",
    "            return\n",
    "    return print('Документ не найден в базе')\n",
    "\n",
    "def shelf_by_docnumber():\n",
    "    doc_number = input('Введите номер документа: ')\n",
    "    for item in directories.items():\n",
    "        shelf = item[0]\n",
    "        d_number = item[1]\n",
    "        if doc_number in d_number:\n",
    "            print('Документ хранится на полке: ', shelf)\n",
    "            return\n",
    "    return print('Документ не найден в базе')    \n",
    "\n",
    "def full_info():\n",
    "    for item in documents:\n",
    "        d_type, d_number, d_name = item.values()\n",
    "        for el in directories.items():\n",
    "            shelf = el[0]\n",
    "            doc_number = el[1]\n",
    "            if d_number in doc_number:\n",
    "                print('№: ', d_number, ', тип: ', d_type, ', владелец: ', d_name, ', полка хранения: ', shelf)    \n",
    "    return \n",
    "\n",
    "def add_shelf():\n",
    "    shelf = input('Введите номер полки: ')\n",
    "    if shelf in directories:\n",
    "        print('Такая полка уже существует. Текущий перечень полок: ' + ', '.join(directories.keys()))\n",
    "    else:\n",
    "        directories[shelf] = []\n",
    "        print('Полка добавлена. Текущий перечень полок: ' + ', '.join(directories.keys()))\n",
    "\n",
    "\n",
    "def rem_shelf():\n",
    "    shelf = input('Введите номер полки: ')\n",
    "    \n",
    "    if shelf in directories:\n",
    "        if len(directories[shelf]) > 0:\n",
    "            print('На полке есть документа, удалите их перед удалением полки. Текущий перечень полок: ' + ', '.join(directories.keys()))\n",
    "            return\n",
    "        del directories[shelf]\n",
    "        print('Полка удалена. Текущий перечень полок: ' + ', '.join(directories.keys()))\n",
    "        return\n",
    "    print('Такой полки не существует. Текущий перечень полок: ' + ', '.join(directories.keys()))\n",
    "    return\n",
    "    \n",
    "while todo != 'q':\n",
    "    todo = input('Введите команду: ')\n",
    "    \n",
    "    if todo == 'p':\n",
    "        name_by_docnumber()\n",
    "    elif todo == 's':\n",
    "        shelf_by_docnumber()\n",
    "    elif todo == 'l':\n",
    "         full_info() \n",
    "    elif todo == 'ads':\n",
    "         add_shelf()\n",
    "    elif todo == 'ds':\n",
    "         rem_shelf()"
   ]
  }
 ],
 "metadata": {
  "kernelspec": {
   "display_name": "Python 3",
   "language": "python",
   "name": "python3"
  },
  "language_info": {
   "codemirror_mode": {
    "name": "ipython",
    "version": 3
   },
   "file_extension": ".py",
   "mimetype": "text/x-python",
   "name": "python",
   "nbconvert_exporter": "python",
   "pygments_lexer": "ipython3",
   "version": "3.8.8"
  }
 },
 "nbformat": 4,
 "nbformat_minor": 4
}
