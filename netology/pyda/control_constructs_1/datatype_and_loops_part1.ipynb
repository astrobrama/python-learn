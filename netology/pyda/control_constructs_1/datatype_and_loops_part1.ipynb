{
 "cells": [
  {
   "cell_type": "markdown",
   "metadata": {},
   "source": [
    "# Домашнее задание к лекции \"Введение в типы данных и циклы. Часть 1\"#"
   ]
  },
  {
   "cell_type": "markdown",
   "metadata": {},
   "source": [
    "## Задание 1##\n",
    "Дана переменная, в которой хранится слово из латинских букв. Напишите код, который выводит на экран:\n",
    "\n",
    "* среднюю букву, если число букв в слове нечетное;\n",
    "* две средних буквы, если число букв четное."
   ]
  },
  {
   "cell_type": "code",
   "execution_count": 1,
   "metadata": {},
   "outputs": [
    {
     "name": "stdout",
     "output_type": "stream",
     "text": [
      "es\n"
     ]
    }
   ],
   "source": [
    "world = 'test'\n",
    "letter_count = len(world)\n",
    "if (letter_count % 2) == 0:\n",
    "    print(world[int(letter_count/2 - 1)] + world[int(letter_count/2)])\n",
    "else:\n",
    "    print(world[int(letter_count // 2)])"
   ]
  },
  {
   "cell_type": "code",
   "execution_count": 2,
   "metadata": {},
   "outputs": [
    {
     "name": "stdout",
     "output_type": "stream",
     "text": [
      "t\n"
     ]
    }
   ],
   "source": [
    "world = 'testing'\n",
    "letter_count = len(world)\n",
    "if (letter_count % 2) == 0:\n",
    "    print(world[int(letter_count/2 - 1)] + world[int(letter_count/2)])\n",
    "else:\n",
    "    print(world[int(letter_count // 2)])"
   ]
  },
  {
   "cell_type": "markdown",
   "metadata": {},
   "source": [
    "## Задание 2##\n",
    "Напишите программу, которая последовательно запрашивает у пользователя числа (по одному за раз) и после первого нуля выводит сумму всех ранее введенных чисел."
   ]
  },
  {
   "cell_type": "code",
   "execution_count": 3,
   "metadata": {},
   "outputs": [
    {
     "name": "stdout",
     "output_type": "stream",
     "text": [
      "Введите число: 1\n",
      "Введите число: 4\n",
      "Введите число: 6\n",
      "Введите число: 0\n",
      "Результат:\n",
      "11\n"
     ]
    }
   ],
   "source": [
    "summ = 0\n",
    "number = int(input('Введите число: '))\n",
    "\n",
    "while number != 0:\n",
    "    summ = summ + number\n",
    "    number = int(input('Введите число: '))\n",
    "print(f'Результат:\\n{summ}')"
   ]
  },
  {
   "cell_type": "markdown",
   "metadata": {},
   "source": [
    "## Задание 3##\n",
    "Мы делаем MVP dating-сервиса, и у нас есть список парней и девушек.\n",
    "Выдвигаем гипотезу: лучшие рекомендации мы получим, если просто отсортируем имена по алфавиту и познакомим людей с одинаковыми индексами после сортировки! Но мы не будем никого знакомить, если кто-то может остаться без пары:"
   ]
  },
  {
   "cell_type": "code",
   "execution_count": 4,
   "metadata": {},
   "outputs": [
    {
     "name": "stdout",
     "output_type": "stream",
     "text": [
      "Идеальные пары:\n",
      "Alex и Emma\n",
      "Arthur и Kate\n",
      "John и Kira\n",
      "Peter и Liza\n",
      "Richard и Trisha\n"
     ]
    }
   ],
   "source": [
    "boys = ['Peter', 'Alex', 'John', 'Arthur', 'Richard']\n",
    "girls = ['Kate', 'Liza', 'Kira', 'Emma', 'Trisha']\n",
    "\n",
    "if len(boys) == len(girls):\n",
    "    boys_sorted = sorted(boys)\n",
    "    girls_sorted = sorted(girls)\n",
    "    print('Идеальные пары:')\n",
    "    for i in range(len(boys)):\n",
    "        print(f'{boys_sorted[i]} и {girls_sorted[i]}')\n",
    "else:\n",
    "    print('Внимание, кто-то может остаться без пары!')"
   ]
  },
  {
   "cell_type": "code",
   "execution_count": 5,
   "metadata": {},
   "outputs": [
    {
     "name": "stdout",
     "output_type": "stream",
     "text": [
      "Внимание, кто-то может остаться без пары!\n"
     ]
    }
   ],
   "source": [
    "boys = ['Peter', 'Alex', 'John', 'Arthur', 'Richard', 'Michael']\n",
    "girls = ['Kate', 'Liza', 'Kira', 'Emma', 'Trisha']\n",
    "\n",
    "if len(boys) == len(girls):\n",
    "    boys_sorted = sorted(boys)\n",
    "    girls_sorted = sorted(girls)\n",
    "    print('Идеальные пары:')\n",
    "    for i in range(len(boys)):\n",
    "        print(f'{boys_sorted[i]} и {girls_sorted[i]}')\n",
    "else:\n",
    "    print('Внимание, кто-то может остаться без пары!')"
   ]
  },
  {
   "cell_type": "markdown",
   "metadata": {},
   "source": [
    "## Задание 4##\n",
    "У нас есть список, содержащий информацию о среднедневной температуре в Фаренгейтах за произвольный период по странам (структура данных в примере). Необходимо написать код, который рассчитает среднюю температуру за период в Цельсиях(!) для каждой страны."
   ]
  },
  {
   "cell_type": "code",
   "execution_count": 6,
   "metadata": {},
   "outputs": [
    {
     "name": "stdout",
     "output_type": "stream",
     "text": [
      "Thailand  -  23.9 С\n",
      "Germany  -  13.8 С\n",
      "Russia  -  3.7 С\n",
      "Poland  -  12.0 С\n"
     ]
    }
   ],
   "source": [
    "countries_temperature = [\n",
    "    ['Thailand', [75.2, 77, 78.8, 73.4, 68, 75.2, 77]],\n",
    "    ['Germany', [57.2, 55.4, 59, 59, 53.6]],\n",
    "    ['Russia', [35.6, 37.4, 39.2, 41, 42.8, 39.2, 35.6]],\n",
    "    ['Poland', [50, 50, 53.6, 57.2, 55.4, 55.4]]\n",
    "]\n",
    "\n",
    "for i in range(len(countries_temperature)):\n",
    "    celsius = (sum(countries_temperature[i][1])/len(countries_temperature[i][1]) - 32) / 1.8\n",
    "    print(f'{countries_temperature[i][0]}  -  {round(celsius,1)} С')\n"
   ]
  },
  {
   "cell_type": "markdown",
   "metadata": {},
   "source": [
    "## Задание 5 (необязательное)##\n",
    "Дан поток логов по количеству просмотренных страниц для каждого пользователя. Вам необходимо написать алгоритм, который считает среднее значение просмотров на пользователя. Т. е. надо посчитать отношение суммы всех просмотров к количеству уникальных пользователей."
   ]
  },
  {
   "cell_type": "code",
   "execution_count": 7,
   "metadata": {},
   "outputs": [
    {
     "name": "stdout",
     "output_type": "stream",
     "text": [
      "Среднее количество просмотров на уникального пользователя:  23.25\n"
     ]
    }
   ],
   "source": [
    "stream = [\n",
    "    '2018-01-01,user1,3',\n",
    "    '2018-01-07,user1,4',\n",
    "    '2018-03-29,user1,1',\n",
    "    '2018-04-04,user1,13',\n",
    "    '2018-01-05,user2,7',\n",
    "    '2018-06-14,user3,4',\n",
    "    '2018-07-02,user3,10',\n",
    "    '2018-03-21,user4,19',\n",
    "    '2018-03-22,user4,4',\n",
    "    '2018-04-22,user4,8',\n",
    "    '2018-05-03,user4,9',\n",
    "    '2018-05-11,user4,11',\n",
    "]\n",
    "\n",
    "strings = []\n",
    "for string in stream:\n",
    "    strings.append(string.split(','))\n",
    "\n",
    "users = []\n",
    "views = []\n",
    "for raw in strings:\n",
    "    users.append(raw[1])\n",
    "    views.append(int(raw[2]))\n",
    "\n",
    "sum_views = sum(views)\n",
    "\n",
    "unique_users = []\n",
    "unique_users_count = 0\n",
    "  \n",
    "for user in users:\n",
    "    if user not in unique_users:\n",
    "        unique_users_count += 1\n",
    "        unique_users.append(user)\n",
    "\n",
    "view_per_unique_user = sum_views / unique_users_count\n",
    "print('Среднее количество просмотров на уникального пользователя: ', round(view_per_unique_user,2))"
   ]
  },
  {
   "cell_type": "code",
   "execution_count": 8,
   "metadata": {},
   "outputs": [
    {
     "name": "stdout",
     "output_type": "stream",
     "text": [
      "Среднее количество просмотров на уникального пользователя:  145.33\n"
     ]
    }
   ],
   "source": [
    "stream = [\n",
    "    '2018-01-01,user100,150',\n",
    "    '2018-01-07,user99,205',\n",
    "    '2018-03-29,user1001,81'\n",
    "]\n",
    "\n",
    "strings = []\n",
    "for string in stream:\n",
    "    strings.append(string.split(','))\n",
    "\n",
    "users = []\n",
    "views = []\n",
    "for raw in strings:\n",
    "    users.append(raw[1])\n",
    "    views.append(int(raw[2]))\n",
    "\n",
    "sum_views = sum(views)\n",
    "\n",
    "unique_users = []\n",
    "unique_users_count = 0\n",
    "  \n",
    "for user in users:\n",
    "    if user not in unique_users:\n",
    "        unique_users_count += 1\n",
    "        unique_users.append(user)\n",
    "\n",
    "view_per_unique_user = sum_views / unique_users_count\n",
    "print('Среднее количество просмотров на уникального пользователя: ', round(view_per_unique_user,2))"
   ]
  },
  {
   "cell_type": "markdown",
   "metadata": {},
   "source": [
    "## Задание 6 (необязательное)##\n",
    "Необходимо у пользователя запрашивать набор чисел разделенных пробелом. В результате в отсортированном порядке должны выводиться числа, которые повторяются в вводе более одного раза."
   ]
  },
  {
   "cell_type": "code",
   "execution_count": 9,
   "metadata": {},
   "outputs": [
    {
     "name": "stdout",
     "output_type": "stream",
     "text": [
      "Введите числа: 4 8 0 3 4 2 0 3\n",
      "0 3 4\n"
     ]
    }
   ],
   "source": [
    "string = input('Введите числа: ')\n",
    "\n",
    "string_to_list = string.split(' ')\n",
    "\n",
    "unique_numbers = []\n",
    "  \n",
    "for item in string_to_list:\n",
    "    if item not in unique_numbers:\n",
    "        unique_numbers.append(item)\n",
    "\n",
    "final_list = []\n",
    "for x in unique_numbers:\n",
    "    if string_to_list.count(x) > 1:\n",
    "        final_list.append(x)\n",
    "\n",
    "print(' '.join(sorted(final_list)))"
   ]
  }
 ],
 "metadata": {
  "kernelspec": {
   "display_name": "Python 3",
   "language": "python",
   "name": "python3"
  },
  "language_info": {
   "codemirror_mode": {
    "name": "ipython",
    "version": 3
   },
   "file_extension": ".py",
   "mimetype": "text/x-python",
   "name": "python",
   "nbconvert_exporter": "python",
   "pygments_lexer": "ipython3",
   "version": "3.7.6"
  }
 },
 "nbformat": 4,
 "nbformat_minor": 4
}
